{
 "cells": [
  {
   "cell_type": "markdown",
   "metadata": {
    "papermill": {
     "duration": 0.069551,
     "end_time": "2020-09-11T16:36:47.531573",
     "exception": false,
     "start_time": "2020-09-11T16:36:47.462022",
     "status": "completed"
    },
    "tags": []
   },
   "source": [
    "# PySpark\n",
    "\n",
    "![](https://luminousmen.com/media/spark-tips.jpg)\n",
    "\n",
    "PySpark is a Python API for Spark released by the Apache Spark community to support Python with Spark. Using PySpark, one can easily integrate and work with RDDs in Python programming language too. There are numerous features that make PySpark such an amazing framework when it comes to working with huge datasets. Whether it is to perform computations on large datasets or to just analyze them, Data Engineers are switching to this tool.\n",
    "\n",
    "### Key Features of PySpark\n",
    "\n",
    "1. Real-time computations: Because of the in-memory processing in the PySpark framework, it shows low latency.\n",
    "\n",
    "2. Polyglot: The PySpark framework is compatible with various languages such as Scala, Java, Python, and R, which makes it one of the most preferable frameworks for processing huge datasets.\n",
    "\n",
    "3. Caching and disk persistence: This framework provides powerful caching and great disk persistence.\n",
    "\n",
    "4. Fast processing: The PySpark framework is way faster than other traditional frameworks for Big Data processing.\n",
    "\n",
    "5. Works well with RDDs: Python programming language is dynamically typed, which helps when working with RDDs.\n"
   ]
  },
  {
   "cell_type": "code",
   "execution_count": 1,
   "metadata": {
    "_kg_hide-output": true,
    "execution": {
     "iopub.execute_input": "2020-09-11T16:36:47.677885Z",
     "iopub.status.busy": "2020-09-11T16:36:47.676979Z",
     "iopub.status.idle": "2020-09-11T16:37:34.327281Z",
     "shell.execute_reply": "2020-09-11T16:37:34.326528Z"
    },
    "papermill": {
     "duration": 46.728653,
     "end_time": "2020-09-11T16:37:34.327460",
     "exception": false,
     "start_time": "2020-09-11T16:36:47.598807",
     "status": "completed"
    },
    "tags": []
   },
   "outputs": [
    {
     "name": "stdout",
     "output_type": "stream",
     "text": [
      "Collecting pyspark\r\n",
      "  Downloading pyspark-3.0.1.tar.gz (204.2 MB)\r\n",
      "\u001b[K     |████████████████████████████████| 204.2 MB 24 kB/s \r\n",
      "\u001b[?25hCollecting py4j==0.10.9\r\n",
      "  Downloading py4j-0.10.9-py2.py3-none-any.whl (198 kB)\r\n",
      "\u001b[K     |████████████████████████████████| 198 kB 43.2 MB/s \r\n",
      "\u001b[?25hBuilding wheels for collected packages: pyspark\r\n",
      "  Building wheel for pyspark (setup.py) ... \u001b[?25l-\b \b\\\b \b|\b \b/\b \b-\b \b\\\b \b|\b \b/\b \b-\b \b\\\b \b|\b \b/\b \b-\b \b\\\b \b|\b \b/\b \b-\b \b\\\b \b|\b \b/\b \b-\b \b\\\b \b|\b \b/\b \b-\b \b\\\b \b|\b \b/\b \b-\b \b\\\b \b|\b \b/\b \b-\b \b\\\b \b|\b \b/\b \b-\b \b\\\b \b|\b \b/\b \b-\b \b\\\b \b|\b \b/\b \b-\b \b\\\b \b|\b \b/\b \b-\b \b\\\b \b|\b \b/\b \b-\b \b\\\b \b|\b \b/\b \b-\b \b\\\b \b|\b \b/\b \b-\b \b\\\b \b|\b \b/\b \b-\b \b\\\b \b|\b \b/\b \b-\b \b\\\b \b|\b \b/\b \b-\b \b\\\b \bdone\r\n",
      "\u001b[?25h  Created wheel for pyspark: filename=pyspark-3.0.1-py2.py3-none-any.whl size=204612244 sha256=d46ac27d276d4388305fdbf56fa4275f7067831acf79c1c16cc709042135f1f6\r\n",
      "  Stored in directory: /root/.cache/pip/wheels/5e/34/fa/b37b5cef503fc5148b478b2495043ba61b079120b7ff379f9b\r\n",
      "Successfully built pyspark\r\n",
      "Installing collected packages: py4j, pyspark\r\n",
      "Successfully installed py4j-0.10.9 pyspark-3.0.1\r\n",
      "\u001b[33mWARNING: You are using pip version 20.2.2; however, version 20.2.3 is available.\r\n",
      "You should consider upgrading via the '/opt/conda/bin/python3.7 -m pip install --upgrade pip' command.\u001b[0m\r\n"
     ]
    }
   ],
   "source": [
    "!pip install pyspark"
   ]
  },
  {
   "cell_type": "code",
   "execution_count": 2,
   "metadata": {
    "execution": {
     "iopub.execute_input": "2020-09-11T16:37:34.803632Z",
     "iopub.status.busy": "2020-09-11T16:37:34.802749Z",
     "iopub.status.idle": "2020-09-11T16:37:40.550365Z",
     "shell.execute_reply": "2020-09-11T16:37:40.549654Z"
    },
    "papermill": {
     "duration": 5.998912,
     "end_time": "2020-09-11T16:37:40.550502",
     "exception": false,
     "start_time": "2020-09-11T16:37:34.551590",
     "status": "completed"
    },
    "tags": []
   },
   "outputs": [],
   "source": [
    "#Initializing PySpark\n",
    "from pyspark import SparkContext, SparkConf\n",
    "\n",
    "#Spark Config\n",
    "conf = SparkConf().setAppName(\"sample_app\")\n",
    "sc = SparkContext(conf=conf)"
   ]
  },
  {
   "cell_type": "markdown",
   "metadata": {
    "papermill": {
     "duration": 0.208371,
     "end_time": "2020-09-11T16:37:40.968368",
     "exception": false,
     "start_time": "2020-09-11T16:37:40.759997",
     "status": "completed"
    },
    "tags": []
   },
   "source": [
    "# Supervised Learning\n",
    "\n",
    "![](https://www.livewireindia.com/blog/wp-content/uploads/2019/06/Supervised-ML-1.gif)\n",
    "\n",
    "Supervised learning is the machine learning task of learning a function that maps an input to an output based on example input-output pairs. It infers a function from labeled training data consisting of a set of training examples. In supervised learning, each example is a pair consisting of an input object (typically a vector) and a desired output value (also called the supervisory signal). A supervised learning algorithm analyzes the training data and produces an inferred function, which can be used for mapping new examples. An optimal scenario will allow for the algorithm to correctly determine the class labels for unseen instances. "
   ]
  },
  {
   "cell_type": "markdown",
   "metadata": {
    "papermill": {
     "duration": 0.208236,
     "end_time": "2020-09-11T16:37:41.387758",
     "exception": false,
     "start_time": "2020-09-11T16:37:41.179522",
     "status": "completed"
    },
    "tags": []
   },
   "source": [
    "## Classification\n",
    "\n",
    "![](https://data-flair.training/blogs/wp-content/uploads/sites/2/2020/05/Cats-Dogs-Classification-deep-learning.gif)\n",
    "\n",
    "Classification is a type of supervised learning. It specifies the class to which data elements belong to and is best used when the output has finite and discrete values. It predicts a class for an input variable as well.\n",
    "\n",
    "There are 2 types of Classification: \n",
    "\n",
    "1. Binomial\n",
    "2. Multi-Class\n",
    "\n",
    "### Classification: Use Cases\n",
    "\n",
    "Some of the key areas where classification cases are being used:\n",
    "\n",
    "1. To find whether an email received is a spam or ham\n",
    "2. To identify customer segments\n",
    "3. To find if a bank loan is granted\n",
    "4. To identify if a kid will pass or fail in an examination"
   ]
  },
  {
   "cell_type": "markdown",
   "metadata": {
    "papermill": {
     "duration": 0.210582,
     "end_time": "2020-09-11T16:37:41.807024",
     "exception": false,
     "start_time": "2020-09-11T16:37:41.596442",
     "status": "completed"
    },
    "tags": []
   },
   "source": [
    "`Execute the cell in the notebook to load the classes.`"
   ]
  },
  {
   "cell_type": "code",
   "execution_count": 3,
   "metadata": {
    "execution": {
     "iopub.execute_input": "2020-09-11T16:37:42.264835Z",
     "iopub.status.busy": "2020-09-11T16:37:42.263940Z",
     "iopub.status.idle": "2020-09-11T16:37:42.487131Z",
     "shell.execute_reply": "2020-09-11T16:37:42.486403Z"
    },
    "papermill": {
     "duration": 0.447346,
     "end_time": "2020-09-11T16:37:42.487293",
     "exception": false,
     "start_time": "2020-09-11T16:37:42.039947",
     "status": "completed"
    },
    "tags": []
   },
   "outputs": [],
   "source": [
    "from pyspark.sql import SQLContext\n",
    "from pyspark.sql import DataFrameNaFunctions\n",
    "\n",
    "from pyspark.ml import Pipeline\n",
    "from pyspark.ml.classification import DecisionTreeClassifier\n",
    "\n",
    "from pyspark.ml.feature import Binarizer\n",
    "from pyspark.ml.feature import VectorAssembler, StringIndexer, VectorIndexer"
   ]
  },
  {
   "cell_type": "markdown",
   "metadata": {
    "papermill": {
     "duration": 0.213612,
     "end_time": "2020-09-11T16:37:42.916816",
     "exception": false,
     "start_time": "2020-09-11T16:37:42.703204",
     "status": "completed"
    },
    "tags": []
   },
   "source": [
    "## Read Data"
   ]
  },
  {
   "cell_type": "code",
   "execution_count": 4,
   "metadata": {
    "execution": {
     "iopub.execute_input": "2020-09-11T16:37:43.356945Z",
     "iopub.status.busy": "2020-09-11T16:37:43.356008Z",
     "iopub.status.idle": "2020-09-11T16:37:50.625241Z",
     "shell.execute_reply": "2020-09-11T16:37:50.624316Z"
    },
    "papermill": {
     "duration": 7.49091,
     "end_time": "2020-09-11T16:37:50.625452",
     "exception": false,
     "start_time": "2020-09-11T16:37:43.134542",
     "status": "completed"
    },
    "tags": []
   },
   "outputs": [],
   "source": [
    "sqlContext = SQLContext(sc)\n",
    "df = sqlContext.read.load('../input/san-diego-daily-weather-data/daily_weather.csv', \n",
    "                          format='com.databricks.spark.csv', \n",
    "                          header='true',inferSchema='true')"
   ]
  },
  {
   "cell_type": "markdown",
   "metadata": {
    "papermill": {
     "duration": 0.225888,
     "end_time": "2020-09-11T16:37:51.098965",
     "exception": false,
     "start_time": "2020-09-11T16:37:50.873077",
     "status": "completed"
    },
    "tags": []
   },
   "source": [
    "`Now, print the columns in DataFrame.`"
   ]
  },
  {
   "cell_type": "code",
   "execution_count": 5,
   "metadata": {
    "execution": {
     "iopub.execute_input": "2020-09-11T16:37:51.539469Z",
     "iopub.status.busy": "2020-09-11T16:37:51.538573Z",
     "iopub.status.idle": "2020-09-11T16:37:51.579203Z",
     "shell.execute_reply": "2020-09-11T16:37:51.578158Z"
    },
    "papermill": {
     "duration": 0.261752,
     "end_time": "2020-09-11T16:37:51.579423",
     "exception": false,
     "start_time": "2020-09-11T16:37:51.317671",
     "status": "completed"
    },
    "tags": []
   },
   "outputs": [
    {
     "name": "stdout",
     "output_type": "stream",
     "text": [
      "['number', 'air_pressure_9am', 'air_temp_9am', 'avg_wind_direction_9am', 'avg_wind_speed_9am', 'max_wind_direction_9am', 'max_wind_speed_9am', 'rain_accumulation_9am', 'rain_duration_9am', 'relative_humidity_9am', 'relative_humidity_3pm']\n"
     ]
    }
   ],
   "source": [
    "print(df.columns)"
   ]
  },
  {
   "cell_type": "markdown",
   "metadata": {
    "papermill": {
     "duration": 0.217351,
     "end_time": "2020-09-11T16:37:52.019990",
     "exception": false,
     "start_time": "2020-09-11T16:37:51.802639",
     "status": "completed"
    },
    "tags": []
   },
   "source": [
    "`Execute the next cell, which defines the columns in the weather data we will use for the decision tree classifier.`"
   ]
  },
  {
   "cell_type": "code",
   "execution_count": 6,
   "metadata": {
    "execution": {
     "iopub.execute_input": "2020-09-11T16:37:52.470752Z",
     "iopub.status.busy": "2020-09-11T16:37:52.469649Z",
     "iopub.status.idle": "2020-09-11T16:37:52.472781Z",
     "shell.execute_reply": "2020-09-11T16:37:52.473341Z"
    },
    "papermill": {
     "duration": 0.230069,
     "end_time": "2020-09-11T16:37:52.473532",
     "exception": false,
     "start_time": "2020-09-11T16:37:52.243463",
     "status": "completed"
    },
    "tags": []
   },
   "outputs": [],
   "source": [
    "featureColumns = ['air_pressure_9am','air_temp_9am','avg_wind_direction_9am','avg_wind_speed_9am',\n",
    "        'max_wind_direction_9am','max_wind_speed_9am','rain_accumulation_9am',\n",
    "        'rain_duration_9am']"
   ]
  },
  {
   "cell_type": "markdown",
   "metadata": {
    "papermill": {
     "duration": 0.220383,
     "end_time": "2020-09-11T16:37:52.917147",
     "exception": false,
     "start_time": "2020-09-11T16:37:52.696764",
     "status": "completed"
    },
    "tags": []
   },
   "source": [
    "## Data Cleaning\n",
    "\n",
    "1. Drop unused and missing data. We do not need the number column in our data, so let's remove it from the DataFrame.\n",
    "\n",
    "2. Next, let's remove all rows with missing data:"
   ]
  },
  {
   "cell_type": "code",
   "execution_count": 7,
   "metadata": {
    "execution": {
     "iopub.execute_input": "2020-09-11T16:37:53.369392Z",
     "iopub.status.busy": "2020-09-11T16:37:53.368598Z",
     "iopub.status.idle": "2020-09-11T16:37:53.431569Z",
     "shell.execute_reply": "2020-09-11T16:37:53.430806Z"
    },
    "papermill": {
     "duration": 0.291938,
     "end_time": "2020-09-11T16:37:53.431721",
     "exception": false,
     "start_time": "2020-09-11T16:37:53.139783",
     "status": "completed"
    },
    "tags": []
   },
   "outputs": [],
   "source": [
    "df = df.drop('number')\n",
    "df = df.na.drop()"
   ]
  },
  {
   "cell_type": "markdown",
   "metadata": {
    "papermill": {
     "duration": 0.214612,
     "end_time": "2020-09-11T16:37:53.862331",
     "exception": false,
     "start_time": "2020-09-11T16:37:53.647719",
     "status": "completed"
    },
    "tags": []
   },
   "source": [
    "`Now , Let us print shape of dataframe.`"
   ]
  },
  {
   "cell_type": "code",
   "execution_count": 8,
   "metadata": {
    "execution": {
     "iopub.execute_input": "2020-09-11T16:37:54.303098Z",
     "iopub.status.busy": "2020-09-11T16:37:54.301903Z",
     "iopub.status.idle": "2020-09-11T16:37:55.281452Z",
     "shell.execute_reply": "2020-09-11T16:37:55.280332Z"
    },
    "papermill": {
     "duration": 1.203907,
     "end_time": "2020-09-11T16:37:55.281721",
     "exception": false,
     "start_time": "2020-09-11T16:37:54.077814",
     "status": "completed"
    },
    "tags": []
   },
   "outputs": [
    {
     "name": "stdout",
     "output_type": "stream",
     "text": [
      "1064 , 10\n"
     ]
    }
   ],
   "source": [
    "print(df.count(),\",\",len(df.columns))"
   ]
  },
  {
   "cell_type": "markdown",
   "metadata": {
    "papermill": {
     "duration": 0.266491,
     "end_time": "2020-09-11T16:37:55.787228",
     "exception": false,
     "start_time": "2020-09-11T16:37:55.520737",
     "status": "completed"
    },
    "tags": []
   },
   "source": [
    "Create categorical variable. Let's create a categorical variable to denote if the humidity is not low. If the value is less than 25%, then we want the categorical value to be 0, otherwise the categorical value should be 1. We can create this categorical variable as a column in a DataFrame using Binarizer:\n",
    "\n",
    "The threshold argument specifies the threshold value for the variable, inputCol is the input column to read, and outputCol is the name of the new categorical column. The second line applies the Binarizer and creates a new DataFrame with the categorical column."
   ]
  },
  {
   "cell_type": "code",
   "execution_count": 9,
   "metadata": {
    "execution": {
     "iopub.execute_input": "2020-09-11T16:37:56.238955Z",
     "iopub.status.busy": "2020-09-11T16:37:56.238054Z",
     "iopub.status.idle": "2020-09-11T16:37:56.348770Z",
     "shell.execute_reply": "2020-09-11T16:37:56.347080Z"
    },
    "papermill": {
     "duration": 0.345759,
     "end_time": "2020-09-11T16:37:56.348969",
     "exception": false,
     "start_time": "2020-09-11T16:37:56.003210",
     "status": "completed"
    },
    "tags": []
   },
   "outputs": [],
   "source": [
    "binarizer = Binarizer(threshold=24.99999,\n",
    "                     inputCol = \"relative_humidity_3pm\",\n",
    "                     outputCol = \"label\")\n",
    "\n",
    "binarizedDF = binarizer.transform(df)"
   ]
  },
  {
   "cell_type": "markdown",
   "metadata": {
    "papermill": {
     "duration": 0.235601,
     "end_time": "2020-09-11T16:37:56.817774",
     "exception": false,
     "start_time": "2020-09-11T16:37:56.582173",
     "status": "completed"
    },
    "tags": []
   },
   "source": [
    "`We can look at the first four values in the new DataFrame. The first row's humidity value is greater than 25% and the label is 1. The other humidity values are less than 25% and have labels equal to 0.`"
   ]
  },
  {
   "cell_type": "code",
   "execution_count": 10,
   "metadata": {
    "execution": {
     "iopub.execute_input": "2020-09-11T16:37:57.251747Z",
     "iopub.status.busy": "2020-09-11T16:37:57.250939Z",
     "iopub.status.idle": "2020-09-11T16:37:57.630574Z",
     "shell.execute_reply": "2020-09-11T16:37:57.629636Z"
    },
    "papermill": {
     "duration": 0.599845,
     "end_time": "2020-09-11T16:37:57.630785",
     "exception": false,
     "start_time": "2020-09-11T16:37:57.030940",
     "status": "completed"
    },
    "tags": []
   },
   "outputs": [
    {
     "name": "stdout",
     "output_type": "stream",
     "text": [
      "+---------------------+-----+\n",
      "|relative_humidity_3pm|label|\n",
      "+---------------------+-----+\n",
      "|   36.160000000000494|  1.0|\n",
      "|     19.4265967985621|  0.0|\n",
      "|   14.460000000000045|  0.0|\n",
      "|   12.742547353761848|  0.0|\n",
      "|    76.74000000000046|  1.0|\n",
      "+---------------------+-----+\n",
      "only showing top 5 rows\n",
      "\n"
     ]
    }
   ],
   "source": [
    "binarizedDF.select('relative_humidity_3pm','label').show(5)"
   ]
  },
  {
   "cell_type": "markdown",
   "metadata": {
    "papermill": {
     "duration": 0.220718,
     "end_time": "2020-09-11T16:37:58.072688",
     "exception": false,
     "start_time": "2020-09-11T16:37:57.851970",
     "status": "completed"
    },
    "tags": []
   },
   "source": [
    "`We can also look at data using Pandas Interface.`"
   ]
  },
  {
   "cell_type": "code",
   "execution_count": 11,
   "metadata": {
    "execution": {
     "iopub.execute_input": "2020-09-11T16:37:58.527472Z",
     "iopub.status.busy": "2020-09-11T16:37:58.526692Z",
     "iopub.status.idle": "2020-09-11T16:37:59.021968Z",
     "shell.execute_reply": "2020-09-11T16:37:59.021253Z"
    },
    "papermill": {
     "duration": 0.730432,
     "end_time": "2020-09-11T16:37:59.022121",
     "exception": false,
     "start_time": "2020-09-11T16:37:58.291689",
     "status": "completed"
    },
    "tags": []
   },
   "outputs": [
    {
     "data": {
      "text/html": [
       "<div>\n",
       "<style scoped>\n",
       "    .dataframe tbody tr th:only-of-type {\n",
       "        vertical-align: middle;\n",
       "    }\n",
       "\n",
       "    .dataframe tbody tr th {\n",
       "        vertical-align: top;\n",
       "    }\n",
       "\n",
       "    .dataframe thead th {\n",
       "        text-align: right;\n",
       "    }\n",
       "</style>\n",
       "<table border=\"1\" class=\"dataframe\">\n",
       "  <thead>\n",
       "    <tr style=\"text-align: right;\">\n",
       "      <th></th>\n",
       "      <th>air_pressure_9am</th>\n",
       "      <th>air_temp_9am</th>\n",
       "      <th>avg_wind_direction_9am</th>\n",
       "      <th>avg_wind_speed_9am</th>\n",
       "      <th>max_wind_direction_9am</th>\n",
       "      <th>max_wind_speed_9am</th>\n",
       "      <th>rain_accumulation_9am</th>\n",
       "      <th>rain_duration_9am</th>\n",
       "      <th>relative_humidity_9am</th>\n",
       "      <th>relative_humidity_3pm</th>\n",
       "      <th>label</th>\n",
       "    </tr>\n",
       "  </thead>\n",
       "  <tbody>\n",
       "    <tr>\n",
       "      <th>0</th>\n",
       "      <td>918.060000</td>\n",
       "      <td>74.822000</td>\n",
       "      <td>271.100000</td>\n",
       "      <td>2.080354</td>\n",
       "      <td>295.400000</td>\n",
       "      <td>2.863283</td>\n",
       "      <td>0.0</td>\n",
       "      <td>0.0</td>\n",
       "      <td>42.420000</td>\n",
       "      <td>36.160000</td>\n",
       "      <td>1.0</td>\n",
       "    </tr>\n",
       "    <tr>\n",
       "      <th>1</th>\n",
       "      <td>917.347688</td>\n",
       "      <td>71.403843</td>\n",
       "      <td>101.935179</td>\n",
       "      <td>2.443009</td>\n",
       "      <td>140.471548</td>\n",
       "      <td>3.533324</td>\n",
       "      <td>0.0</td>\n",
       "      <td>0.0</td>\n",
       "      <td>24.328697</td>\n",
       "      <td>19.426597</td>\n",
       "      <td>0.0</td>\n",
       "    </tr>\n",
       "  </tbody>\n",
       "</table>\n",
       "</div>"
      ],
      "text/plain": [
       "   air_pressure_9am  air_temp_9am  avg_wind_direction_9am  avg_wind_speed_9am  \\\n",
       "0        918.060000     74.822000              271.100000            2.080354   \n",
       "1        917.347688     71.403843              101.935179            2.443009   \n",
       "\n",
       "   max_wind_direction_9am  max_wind_speed_9am  rain_accumulation_9am  \\\n",
       "0              295.400000            2.863283                    0.0   \n",
       "1              140.471548            3.533324                    0.0   \n",
       "\n",
       "   rain_duration_9am  relative_humidity_9am  relative_humidity_3pm  label  \n",
       "0                0.0              42.420000              36.160000    1.0  \n",
       "1                0.0              24.328697              19.426597    0.0  "
      ]
     },
     "execution_count": 11,
     "metadata": {},
     "output_type": "execute_result"
    }
   ],
   "source": [
    "binarizedDF.toPandas().head(2)"
   ]
  },
  {
   "cell_type": "markdown",
   "metadata": {
    "papermill": {
     "duration": 0.21513,
     "end_time": "2020-09-11T16:37:59.480460",
     "exception": false,
     "start_time": "2020-09-11T16:37:59.265330",
     "status": "completed"
    },
    "tags": []
   },
   "source": [
    "Let's aggregate the features we will use to make predictions into a single column: The inputCols argument specifies our list of column names we defined earlier, and outputCol is the name of the new column. The second line creates a new DataFrame with the aggregated features in a column."
   ]
  },
  {
   "cell_type": "code",
   "execution_count": 12,
   "metadata": {
    "execution": {
     "iopub.execute_input": "2020-09-11T16:37:59.920700Z",
     "iopub.status.busy": "2020-09-11T16:37:59.919896Z",
     "iopub.status.idle": "2020-09-11T16:38:00.158698Z",
     "shell.execute_reply": "2020-09-11T16:38:00.157587Z"
    },
    "papermill": {
     "duration": 0.463624,
     "end_time": "2020-09-11T16:38:00.158907",
     "exception": false,
     "start_time": "2020-09-11T16:37:59.695283",
     "status": "completed"
    },
    "tags": []
   },
   "outputs": [],
   "source": [
    "assembler = VectorAssembler(inputCols=featureColumns,\n",
    "                           outputCol = 'features')\n",
    "\n",
    "assembled = assembler.transform(binarizedDF)"
   ]
  },
  {
   "cell_type": "code",
   "execution_count": 13,
   "metadata": {
    "execution": {
     "iopub.execute_input": "2020-09-11T16:38:00.603108Z",
     "iopub.status.busy": "2020-09-11T16:38:00.602027Z",
     "iopub.status.idle": "2020-09-11T16:38:00.984958Z",
     "shell.execute_reply": "2020-09-11T16:38:00.983942Z"
    },
    "papermill": {
     "duration": 0.602951,
     "end_time": "2020-09-11T16:38:00.985157",
     "exception": false,
     "start_time": "2020-09-11T16:38:00.382206",
     "status": "completed"
    },
    "tags": []
   },
   "outputs": [
    {
     "name": "stdout",
     "output_type": "stream",
     "text": [
      "+--------------------+\n",
      "|            features|\n",
      "+--------------------+\n",
      "|[918.060000000008...|\n",
      "|[917.347688117709...|\n",
      "+--------------------+\n",
      "only showing top 2 rows\n",
      "\n"
     ]
    }
   ],
   "source": [
    "assembled.select('features').show(2)"
   ]
  },
  {
   "cell_type": "markdown",
   "metadata": {
    "papermill": {
     "duration": 0.221129,
     "end_time": "2020-09-11T16:38:01.432028",
     "exception": false,
     "start_time": "2020-09-11T16:38:01.210899",
     "status": "completed"
    },
    "tags": []
   },
   "source": [
    "## Data Preprocessing\n",
    "\n",
    "Split training and test data. We can split the data by calling randomSplit():The first argument is how many parts to split the data into and the approximate size of each. This specifies two sets of 80% and 20%. Normally, the seed should not be specified, but we use a specific value here so that everyone will get the same decision tree.\n",
    "\n",
    "`We can print the number of rows in each DataFrame to check the sizes (1095 * 80% = 851.2).`"
   ]
  },
  {
   "cell_type": "code",
   "execution_count": 14,
   "metadata": {
    "execution": {
     "iopub.execute_input": "2020-09-11T16:38:01.879572Z",
     "iopub.status.busy": "2020-09-11T16:38:01.878405Z",
     "iopub.status.idle": "2020-09-11T16:38:01.909391Z",
     "shell.execute_reply": "2020-09-11T16:38:01.910076Z"
    },
    "papermill": {
     "duration": 0.254907,
     "end_time": "2020-09-11T16:38:01.910294",
     "exception": false,
     "start_time": "2020-09-11T16:38:01.655387",
     "status": "completed"
    },
    "tags": []
   },
   "outputs": [],
   "source": [
    "(trainingData, testData) = assembled.randomSplit([0.8,0.2], seed=13234)"
   ]
  },
  {
   "cell_type": "code",
   "execution_count": 15,
   "metadata": {
    "execution": {
     "iopub.execute_input": "2020-09-11T16:38:02.362414Z",
     "iopub.status.busy": "2020-09-11T16:38:02.361061Z",
     "iopub.status.idle": "2020-09-11T16:38:03.812590Z",
     "shell.execute_reply": "2020-09-11T16:38:03.811669Z"
    },
    "papermill": {
     "duration": 1.677963,
     "end_time": "2020-09-11T16:38:03.812801",
     "exception": false,
     "start_time": "2020-09-11T16:38:02.134838",
     "status": "completed"
    },
    "tags": []
   },
   "outputs": [
    {
     "data": {
      "text/plain": [
       "(846, 218)"
      ]
     },
     "execution_count": 15,
     "metadata": {},
     "output_type": "execute_result"
    }
   ],
   "source": [
    "trainingData.count(),testData.count()"
   ]
  },
  {
   "cell_type": "markdown",
   "metadata": {
    "papermill": {
     "duration": 0.217864,
     "end_time": "2020-09-11T16:38:04.352040",
     "exception": false,
     "start_time": "2020-09-11T16:38:04.134176",
     "status": "completed"
    },
    "tags": []
   },
   "source": [
    "## Decision Tree Classifier\n",
    "\n",
    "![](https://lh4.googleusercontent.com/v9UQUwaQTAXVH90b-Ugyw2_61_uErfYvTBtG-RNRNB_eHUFq9AmAN_2IOdfOETnbXImnQVN-wPC7_YzDgf7urCeyhyx5UZmuSwV8BVsV8VnHxl1KtgpuxDifJ4pLE23ooYXLlnc)\n",
    "\n",
    "Decision tree learning is one of the predictive modelling approaches used in statistics, data mining and machine learning. It uses a decision tree (as a predictive model) to go from observations about an item (represented in the branches) to conclusions about the item's target value (represented in the leaves). Tree models where the target variable can take a discrete set of values are called classification trees; in these tree structures, leaves represent class labels and branches represent conjunctions of features that lead to those class labels. Decision trees where the target variable can take continuous values (typically real numbers) are called regression trees. Decision trees are among the most popular machine learning algorithms given their intelligibility and simplicity."
   ]
  },
  {
   "cell_type": "markdown",
   "metadata": {
    "papermill": {
     "duration": 0.219149,
     "end_time": "2020-09-11T16:38:04.795081",
     "exception": false,
     "start_time": "2020-09-11T16:38:04.575932",
     "status": "completed"
    },
    "tags": []
   },
   "source": [
    "The labelCol argument is the column we are trying to predict, featuresCol specifies the aggregated features column, maxDepth is stopping criterion for tree induction based on maximum depth of tree, minInstancesPerNode is stopping criterion for tree induction based on minimum number of samples in a node, and impurity is the impurity measure used to split nodes.\n",
    "\n",
    "`We can create a model by training the decision tree. This is done by executing it in a Pipeline.`"
   ]
  },
  {
   "cell_type": "code",
   "execution_count": 16,
   "metadata": {
    "execution": {
     "iopub.execute_input": "2020-09-11T16:38:05.243572Z",
     "iopub.status.busy": "2020-09-11T16:38:05.242795Z",
     "iopub.status.idle": "2020-09-11T16:38:05.277542Z",
     "shell.execute_reply": "2020-09-11T16:38:05.276867Z"
    },
    "papermill": {
     "duration": 0.263957,
     "end_time": "2020-09-11T16:38:05.277703",
     "exception": false,
     "start_time": "2020-09-11T16:38:05.013746",
     "status": "completed"
    },
    "tags": []
   },
   "outputs": [],
   "source": [
    "dt = DecisionTreeClassifier(labelCol='label',featuresCol='features',maxDepth=5,\n",
    "                           minInstancesPerNode = 20, impurity = 'gini')"
   ]
  },
  {
   "cell_type": "code",
   "execution_count": 17,
   "metadata": {
    "execution": {
     "iopub.execute_input": "2020-09-11T16:38:05.724823Z",
     "iopub.status.busy": "2020-09-11T16:38:05.723931Z",
     "iopub.status.idle": "2020-09-11T16:38:08.684073Z",
     "shell.execute_reply": "2020-09-11T16:38:08.696352Z"
    },
    "papermill": {
     "duration": 3.200888,
     "end_time": "2020-09-11T16:38:08.696725",
     "exception": false,
     "start_time": "2020-09-11T16:38:05.495837",
     "status": "completed"
    },
    "tags": []
   },
   "outputs": [],
   "source": [
    "pipeline = Pipeline(stages=[dt])\n",
    "model = pipeline.fit(trainingData)"
   ]
  },
  {
   "cell_type": "markdown",
   "metadata": {
    "papermill": {
     "duration": 0.247975,
     "end_time": "2020-09-11T16:38:09.294859",
     "exception": false,
     "start_time": "2020-09-11T16:38:09.046884",
     "status": "completed"
    },
    "tags": []
   },
   "source": [
    "`Let's make predictions using our test data set.`"
   ]
  },
  {
   "cell_type": "code",
   "execution_count": 18,
   "metadata": {
    "execution": {
     "iopub.execute_input": "2020-09-11T16:38:09.753159Z",
     "iopub.status.busy": "2020-09-11T16:38:09.752080Z",
     "iopub.status.idle": "2020-09-11T16:38:09.875202Z",
     "shell.execute_reply": "2020-09-11T16:38:09.874218Z"
    },
    "papermill": {
     "duration": 0.357847,
     "end_time": "2020-09-11T16:38:09.875418",
     "exception": false,
     "start_time": "2020-09-11T16:38:09.517571",
     "status": "completed"
    },
    "tags": []
   },
   "outputs": [],
   "source": [
    "predictions = model.transform(testData)"
   ]
  },
  {
   "cell_type": "code",
   "execution_count": 19,
   "metadata": {
    "execution": {
     "iopub.execute_input": "2020-09-11T16:38:10.324430Z",
     "iopub.status.busy": "2020-09-11T16:38:10.323465Z",
     "iopub.status.idle": "2020-09-11T16:38:10.708275Z",
     "shell.execute_reply": "2020-09-11T16:38:10.708910Z"
    },
    "papermill": {
     "duration": 0.610099,
     "end_time": "2020-09-11T16:38:10.709072",
     "exception": false,
     "start_time": "2020-09-11T16:38:10.098973",
     "status": "completed"
    },
    "tags": []
   },
   "outputs": [
    {
     "name": "stdout",
     "output_type": "stream",
     "text": [
      "+----------+-----+\n",
      "|prediction|label|\n",
      "+----------+-----+\n",
      "|       1.0|  1.0|\n",
      "|       1.0|  1.0|\n",
      "|       0.0|  1.0|\n",
      "|       1.0|  1.0|\n",
      "|       1.0|  1.0|\n",
      "+----------+-----+\n",
      "only showing top 5 rows\n",
      "\n"
     ]
    }
   ],
   "source": [
    "predictions.select('prediction','label').show(5)"
   ]
  },
  {
   "cell_type": "markdown",
   "metadata": {
    "papermill": {
     "duration": 0.224835,
     "end_time": "2020-09-11T16:38:11.168688",
     "exception": false,
     "start_time": "2020-09-11T16:38:10.943853",
     "status": "completed"
    },
    "tags": []
   },
   "source": [
    "Save predictions to CSV. Finally, let's save the predictions to a CSV file. In the next Spark hands-on activity, we will evaluate the accuracy.\n",
    "\n",
    "`Let's save only the prediction and label columns to a CSV file.`"
   ]
  },
  {
   "cell_type": "code",
   "execution_count": 20,
   "metadata": {
    "execution": {
     "iopub.execute_input": "2020-09-11T16:38:11.620112Z",
     "iopub.status.busy": "2020-09-11T16:38:11.619160Z",
     "iopub.status.idle": "2020-09-11T16:38:12.254771Z",
     "shell.execute_reply": "2020-09-11T16:38:12.253627Z"
    },
    "papermill": {
     "duration": 0.863639,
     "end_time": "2020-09-11T16:38:12.254969",
     "exception": false,
     "start_time": "2020-09-11T16:38:11.391330",
     "status": "completed"
    },
    "tags": []
   },
   "outputs": [],
   "source": [
    "predictions.select('prediction','label').write.save('low_humidity_prediction.csv', \n",
    "                          format='com.databricks.spark.csv', \n",
    "                          header='true',inferSchema='true')"
   ]
  },
  {
   "cell_type": "markdown",
   "metadata": {
    "papermill": {
     "duration": 0.234053,
     "end_time": "2020-09-11T16:38:12.728395",
     "exception": false,
     "start_time": "2020-09-11T16:38:12.494342",
     "status": "completed"
    },
    "tags": []
   },
   "source": [
    "## Model Evaluation\n",
    "\n",
    "Model evaluation aims to estimate the generalization accuracy of a model on future (unseen/out-of-sample) data.\n",
    "Methods for evaluating a model’s performance are divided into 2 categories: namely, holdout and Cross-validation. Both methods use a test set (i.e data not seen by the model) to evaluate model performance. It’s not recommended to use the data we used to build the model to evaluate it. This is because our model will simply remember the whole training set, and will therefore always predict the correct label for any point in the training set. This is known as overfitting.\n",
    "\n",
    "`Execute the next cell to load the classes.`"
   ]
  },
  {
   "cell_type": "code",
   "execution_count": 21,
   "metadata": {
    "execution": {
     "iopub.execute_input": "2020-09-11T16:38:13.181331Z",
     "iopub.status.busy": "2020-09-11T16:38:13.180003Z",
     "iopub.status.idle": "2020-09-11T16:38:13.193467Z",
     "shell.execute_reply": "2020-09-11T16:38:13.192683Z"
    },
    "papermill": {
     "duration": 0.24066,
     "end_time": "2020-09-11T16:38:13.193627",
     "exception": false,
     "start_time": "2020-09-11T16:38:12.952967",
     "status": "completed"
    },
    "tags": []
   },
   "outputs": [],
   "source": [
    "from pyspark.ml.evaluation import MulticlassClassificationEvaluator\n",
    "from pyspark.mllib.evaluation import MulticlassMetrics"
   ]
  },
  {
   "cell_type": "code",
   "execution_count": 22,
   "metadata": {
    "execution": {
     "iopub.execute_input": "2020-09-11T16:38:13.660438Z",
     "iopub.status.busy": "2020-09-11T16:38:13.659507Z",
     "iopub.status.idle": "2020-09-11T16:38:13.976112Z",
     "shell.execute_reply": "2020-09-11T16:38:13.974971Z"
    },
    "papermill": {
     "duration": 0.551518,
     "end_time": "2020-09-11T16:38:13.976340",
     "exception": false,
     "start_time": "2020-09-11T16:38:13.424822",
     "status": "completed"
    },
    "tags": []
   },
   "outputs": [],
   "source": [
    "predictions = sqlContext.read.load('./low_humidity_prediction.csv', \n",
    "                          format='com.databricks.spark.csv', \n",
    "                          header='true',inferSchema='true')"
   ]
  },
  {
   "cell_type": "code",
   "execution_count": 23,
   "metadata": {
    "execution": {
     "iopub.execute_input": "2020-09-11T16:38:14.453235Z",
     "iopub.status.busy": "2020-09-11T16:38:14.452149Z",
     "iopub.status.idle": "2020-09-11T16:38:14.585520Z",
     "shell.execute_reply": "2020-09-11T16:38:14.586383Z"
    },
    "papermill": {
     "duration": 0.369627,
     "end_time": "2020-09-11T16:38:14.586636",
     "exception": false,
     "start_time": "2020-09-11T16:38:14.217009",
     "status": "completed"
    },
    "tags": []
   },
   "outputs": [
    {
     "name": "stdout",
     "output_type": "stream",
     "text": [
      "+----------+-----+\n",
      "|prediction|label|\n",
      "+----------+-----+\n",
      "|       1.0|  1.0|\n",
      "|       1.0|  1.0|\n",
      "|       0.0|  1.0|\n",
      "|       1.0|  1.0|\n",
      "|       1.0|  1.0|\n",
      "+----------+-----+\n",
      "only showing top 5 rows\n",
      "\n"
     ]
    }
   ],
   "source": [
    "predictions.show(5)"
   ]
  },
  {
   "cell_type": "markdown",
   "metadata": {
    "papermill": {
     "duration": 0.22452,
     "end_time": "2020-09-11T16:38:15.064241",
     "exception": false,
     "start_time": "2020-09-11T16:38:14.839721",
     "status": "completed"
    },
    "tags": []
   },
   "source": [
    "`Let's create an instance of MulticlassClassificationEvaluator to determine the accuracy of the predictions.`"
   ]
  },
  {
   "cell_type": "code",
   "execution_count": 24,
   "metadata": {
    "execution": {
     "iopub.execute_input": "2020-09-11T16:38:15.515837Z",
     "iopub.status.busy": "2020-09-11T16:38:15.514861Z",
     "iopub.status.idle": "2020-09-11T16:38:15.529591Z",
     "shell.execute_reply": "2020-09-11T16:38:15.528957Z"
    },
    "papermill": {
     "duration": 0.240672,
     "end_time": "2020-09-11T16:38:15.529736",
     "exception": false,
     "start_time": "2020-09-11T16:38:15.289064",
     "status": "completed"
    },
    "tags": []
   },
   "outputs": [],
   "source": [
    "evaluator = MulticlassClassificationEvaluator(labelCol='label',\n",
    "                                             predictionCol = 'prediction',\n",
    "                                             metricName = 'accuracy')"
   ]
  },
  {
   "cell_type": "markdown",
   "metadata": {
    "papermill": {
     "duration": 0.222641,
     "end_time": "2020-09-11T16:38:15.978655",
     "exception": false,
     "start_time": "2020-09-11T16:38:15.756014",
     "status": "completed"
    },
    "tags": []
   },
   "source": [
    "The first two arguments specify the names of the label and prediction columns, and the third argument specifies that we want the overall precision.\n",
    "\n",
    "`We can compute the accuracy by calling evaluate().`"
   ]
  },
  {
   "cell_type": "code",
   "execution_count": 25,
   "metadata": {
    "execution": {
     "iopub.execute_input": "2020-09-11T16:38:16.422955Z",
     "iopub.status.busy": "2020-09-11T16:38:16.421833Z",
     "iopub.status.idle": "2020-09-11T16:38:16.665803Z",
     "shell.execute_reply": "2020-09-11T16:38:16.664851Z"
    },
    "papermill": {
     "duration": 0.468598,
     "end_time": "2020-09-11T16:38:16.666017",
     "exception": false,
     "start_time": "2020-09-11T16:38:16.197419",
     "status": "completed"
    },
    "tags": []
   },
   "outputs": [
    {
     "name": "stdout",
     "output_type": "stream",
     "text": [
      "0.7844036697247706\n"
     ]
    }
   ],
   "source": [
    "acc = evaluator.evaluate(predictions)\n",
    "print(acc)"
   ]
  },
  {
   "cell_type": "markdown",
   "metadata": {
    "papermill": {
     "duration": 0.226829,
     "end_time": "2020-09-11T16:38:17.127049",
     "exception": false,
     "start_time": "2020-09-11T16:38:16.900220",
     "status": "completed"
    },
    "tags": []
   },
   "source": [
    "## Confusion Metrics\n",
    "\n",
    "The MulticlassMetrics class can be used to generate a confusion matrix of our classifier model. However, unlike MulticlassClassificationEvaluator, MulticlassMetrics works with RDDs of numbers and not DataFrames, so we need to convert our predictions DataFrame into an RDD.\n",
    "\n",
    "If we use the rdd attribute of predictions, we see this is an RDD of Rows."
   ]
  },
  {
   "cell_type": "code",
   "execution_count": 26,
   "metadata": {
    "execution": {
     "iopub.execute_input": "2020-09-11T16:38:17.588869Z",
     "iopub.status.busy": "2020-09-11T16:38:17.587701Z",
     "iopub.status.idle": "2020-09-11T16:38:18.464627Z",
     "shell.execute_reply": "2020-09-11T16:38:18.463412Z"
    },
    "papermill": {
     "duration": 1.111978,
     "end_time": "2020-09-11T16:38:18.464785",
     "exception": false,
     "start_time": "2020-09-11T16:38:17.352807",
     "status": "completed"
    },
    "tags": []
   },
   "outputs": [
    {
     "data": {
      "text/plain": [
       "[Row(prediction=1.0, label=1.0), Row(prediction=1.0, label=1.0)]"
      ]
     },
     "execution_count": 26,
     "metadata": {},
     "output_type": "execute_result"
    }
   ],
   "source": [
    "predictions.rdd.take(2)"
   ]
  },
  {
   "cell_type": "markdown",
   "metadata": {
    "papermill": {
     "duration": 0.238152,
     "end_time": "2020-09-11T16:38:18.959937",
     "exception": false,
     "start_time": "2020-09-11T16:38:18.721785",
     "status": "completed"
    },
    "tags": []
   },
   "source": [
    "Instead, we can map the RDD to tuple to get an RDD of numbers:"
   ]
  },
  {
   "cell_type": "code",
   "execution_count": 27,
   "metadata": {
    "execution": {
     "iopub.execute_input": "2020-09-11T16:38:19.434080Z",
     "iopub.status.busy": "2020-09-11T16:38:19.432933Z",
     "iopub.status.idle": "2020-09-11T16:38:19.570781Z",
     "shell.execute_reply": "2020-09-11T16:38:19.569816Z"
    },
    "papermill": {
     "duration": 0.384882,
     "end_time": "2020-09-11T16:38:19.570986",
     "exception": false,
     "start_time": "2020-09-11T16:38:19.186104",
     "status": "completed"
    },
    "tags": []
   },
   "outputs": [
    {
     "data": {
      "text/plain": [
       "[(1.0, 1.0), (1.0, 1.0), (0.0, 1.0), (1.0, 1.0), (1.0, 1.0)]"
      ]
     },
     "execution_count": 27,
     "metadata": {},
     "output_type": "execute_result"
    }
   ],
   "source": [
    "predictions.rdd.map(tuple).take(5)"
   ]
  },
  {
   "cell_type": "markdown",
   "metadata": {
    "papermill": {
     "duration": 0.224439,
     "end_time": "2020-09-11T16:38:20.060816",
     "exception": false,
     "start_time": "2020-09-11T16:38:19.836377",
     "status": "completed"
    },
    "tags": []
   },
   "source": [
    "`Let's create an instance of MulticlassMetrics with this RDD:`"
   ]
  },
  {
   "cell_type": "code",
   "execution_count": 28,
   "metadata": {
    "execution": {
     "iopub.execute_input": "2020-09-11T16:38:20.519925Z",
     "iopub.status.busy": "2020-09-11T16:38:20.519096Z",
     "iopub.status.idle": "2020-09-11T16:38:20.735178Z",
     "shell.execute_reply": "2020-09-11T16:38:20.733978Z"
    },
    "papermill": {
     "duration": 0.448416,
     "end_time": "2020-09-11T16:38:20.735414",
     "exception": false,
     "start_time": "2020-09-11T16:38:20.286998",
     "status": "completed"
    },
    "tags": []
   },
   "outputs": [],
   "source": [
    "metrics = MulticlassMetrics(predictions.rdd.map(tuple))"
   ]
  },
  {
   "cell_type": "markdown",
   "metadata": {
    "papermill": {
     "duration": 0.221511,
     "end_time": "2020-09-11T16:38:21.209177",
     "exception": false,
     "start_time": "2020-09-11T16:38:20.987666",
     "status": "completed"
    },
    "tags": []
   },
   "source": [
    "`The confusionMatrix() function returns a Spark Matrix, which we can convert to a Python Numpy array, and transpose to view.`"
   ]
  },
  {
   "cell_type": "code",
   "execution_count": 29,
   "metadata": {
    "execution": {
     "iopub.execute_input": "2020-09-11T16:38:21.658914Z",
     "iopub.status.busy": "2020-09-11T16:38:21.657703Z",
     "iopub.status.idle": "2020-09-11T16:38:21.944627Z",
     "shell.execute_reply": "2020-09-11T16:38:21.945663Z"
    },
    "papermill": {
     "duration": 0.513763,
     "end_time": "2020-09-11T16:38:21.945915",
     "exception": false,
     "start_time": "2020-09-11T16:38:21.432152",
     "status": "completed"
    },
    "tags": []
   },
   "outputs": [
    {
     "data": {
      "text/plain": [
       "array([[87., 28.],\n",
       "       [19., 84.]])"
      ]
     },
     "execution_count": 29,
     "metadata": {},
     "output_type": "execute_result"
    }
   ],
   "source": [
    "\n",
    "metrics.confusionMatrix().toArray().T"
   ]
  },
  {
   "cell_type": "markdown",
   "metadata": {
    "papermill": {
     "duration": 0.221083,
     "end_time": "2020-09-11T16:38:22.421391",
     "exception": false,
     "start_time": "2020-09-11T16:38:22.200308",
     "status": "completed"
    },
    "tags": []
   },
   "source": [
    "# Unsupervised Learning\n",
    "\n",
    "![](https://miro.medium.com/max/1280/1*HU617gljScDVnanadMzCcQ.gif)\n",
    "\n",
    "Unsupervised learning is a type of machine learning that looks for previously undetected patterns in a data set with no pre-existing labels and with a minimum of human supervision. In contrast to supervised learning that usually makes use of human-labeled data, unsupervised learning, also known as self-organization allows for modeling of probability densities over inputs. It forms one of the three main categories of machine learning, along with supervised and reinforcement learning. Semi-supervised learning, a related variant, makes use of supervised and unsupervised techniques."
   ]
  },
  {
   "cell_type": "markdown",
   "metadata": {
    "papermill": {
     "duration": 0.221114,
     "end_time": "2020-09-11T16:38:22.864613",
     "exception": false,
     "start_time": "2020-09-11T16:38:22.643499",
     "status": "completed"
    },
    "tags": []
   },
   "source": [
    "## KMeans Clustering\n",
    "\n",
    "![](https://sharpneat.sourceforge.io/research/kmeans_example_animation.gif)\n",
    "\n",
    "k-means clustering is a method of vector quantization, originally from signal processing, that aims to partition n observations into k clusters in which each observation belongs to the cluster with the nearest mean (cluster centers or cluster centroid), serving as a prototype of the cluster. This results in a partitioning of the data space into Voronoi cells. It is popular for cluster analysis in data mining. k-means clustering minimizes within-cluster variances (squared Euclidean distances), but not regular Euclidean distances, which would be the more difficult Weber problem: the mean optimizes squared errors, whereas only the geometric median minimizes Euclidean distances. For instance, better Euclidean solutions can be found using k-medians and k-medoids."
   ]
  },
  {
   "cell_type": "markdown",
   "metadata": {
    "papermill": {
     "duration": 0.222903,
     "end_time": "2020-09-11T16:38:23.313225",
     "exception": false,
     "start_time": "2020-09-11T16:38:23.090322",
     "status": "completed"
    },
    "tags": []
   },
   "source": [
    "## Problem Description\n",
    "\n",
    "This activity guides you through the process of performing cluster analysis on a dataset using k-means. In this activity, we will perform cluster analysis on the minute-weather.csv dataset using the k-means algorithm. Recall that this dataset contains weather measurements such as temperature, relative humidity, etc., from a weather station in San Diego, California, collected at one-minute intervals. The goal of cluster analysis on this data is to identify different weather patterns for this weather station."
   ]
  },
  {
   "cell_type": "markdown",
   "metadata": {
    "papermill": {
     "duration": 0.225347,
     "end_time": "2020-09-11T16:38:23.763514",
     "exception": false,
     "start_time": "2020-09-11T16:38:23.538167",
     "status": "completed"
    },
    "tags": []
   },
   "source": [
    "`Execute the next cell to load the classes used in this activity.`"
   ]
  },
  {
   "cell_type": "code",
   "execution_count": 30,
   "metadata": {
    "execution": {
     "iopub.execute_input": "2020-09-11T16:38:24.224379Z",
     "iopub.status.busy": "2020-09-11T16:38:24.223316Z",
     "iopub.status.idle": "2020-09-11T16:38:24.229250Z",
     "shell.execute_reply": "2020-09-11T16:38:24.228458Z"
    },
    "papermill": {
     "duration": 0.239487,
     "end_time": "2020-09-11T16:38:24.229424",
     "exception": false,
     "start_time": "2020-09-11T16:38:23.989937",
     "status": "completed"
    },
    "tags": []
   },
   "outputs": [],
   "source": [
    "from pyspark.sql import SQLContext\n",
    "from pyspark.ml.clustering import KMeans\n",
    "from pyspark.ml.feature import VectorAssembler\n",
    "from pyspark.ml.feature import StandardScaler\n",
    "%matplotlib inline"
   ]
  },
  {
   "cell_type": "markdown",
   "metadata": {
    "papermill": {
     "duration": 0.228852,
     "end_time": "2020-09-11T16:38:24.683467",
     "exception": false,
     "start_time": "2020-09-11T16:38:24.454615",
     "status": "completed"
    },
    "tags": []
   },
   "source": [
    "`I am making this extra codes to make plots. Please feel free to explore.`"
   ]
  },
  {
   "cell_type": "code",
   "execution_count": 31,
   "metadata": {
    "_kg_hide-input": true,
    "execution": {
     "iopub.execute_input": "2020-09-11T16:38:25.152253Z",
     "iopub.status.busy": "2020-09-11T16:38:25.146983Z",
     "iopub.status.idle": "2020-09-11T16:38:25.170542Z",
     "shell.execute_reply": "2020-09-11T16:38:25.169819Z"
    },
    "papermill": {
     "duration": 0.26153,
     "end_time": "2020-09-11T16:38:25.170710",
     "exception": false,
     "start_time": "2020-09-11T16:38:24.909180",
     "status": "completed"
    },
    "tags": []
   },
   "outputs": [],
   "source": [
    "from itertools import cycle, islice\n",
    "from math import sqrt\n",
    "from numpy import array\n",
    "from pandas.plotting import parallel_coordinates\n",
    "from pyspark.ml.clustering import KMeans as KM\n",
    "from pyspark.mllib.linalg import DenseVector\n",
    "import matplotlib.pyplot as plt\n",
    "import numpy as np\n",
    "import pandas as pd\n",
    "\n",
    "def computeCost(featuresAndPrediction, model):\n",
    "    allClusterCenters = [DenseVector(c) for c in model.clusterCenters()]\n",
    "    arrayCollection   = featuresAndPrediction.rdd.map(array)\n",
    "\n",
    "    def error(point, predictedCluster):\n",
    "        center = allClusterCenters[predictedCluster]\n",
    "        z      = point - center\n",
    "        return sqrt((z*z).sum())\n",
    "    \n",
    "    return arrayCollection.map(lambda row: error(row[0], row[1])).reduce(lambda x, y: x + y)\n",
    "\n",
    "\n",
    "def elbow(elbowset, clusters):\n",
    "    wsseList = []\t\n",
    "    for k in clusters:\n",
    "        print(\"Training for cluster size {} \".format(k))\n",
    "        kmeans = KM(k = k, seed = 1)\n",
    "        model = kmeans.fit(elbowset)\n",
    "        transformed = model.transform(elbowset)\n",
    "        featuresAndPrediction = transformed.select(\"features\", \"prediction\")\n",
    "\n",
    "        W = computeCost(featuresAndPrediction, model)\n",
    "        print(\"......................WSSE = {} \".format(W))\n",
    "\n",
    "        wsseList.append(W)\n",
    "    return wsseList\n",
    "\n",
    "def elbow_plot(wsseList, clusters):\n",
    "    wsseDF = pd.DataFrame({'WSSE' : wsseList, 'k' : clusters })\n",
    "    wsseDF.plot(y='WSSE', x='k', figsize=(15,10), grid=True, marker='o')\n",
    "\n",
    "def pd_centers(featuresUsed, centers):\n",
    "    colNames = list(featuresUsed)\n",
    "    colNames.append('prediction')\n",
    "\n",
    "    # Zip with a column called 'prediction' (index)\n",
    "    Z = [np.append(A, index) for index, A in enumerate(centers)]\n",
    "\n",
    "    # Convert to pandas for plotting\n",
    "    P = pd.DataFrame(Z, columns=colNames)\n",
    "    P['prediction'] = P['prediction'].astype(int)\n",
    "    return P\n",
    "\n",
    "def parallel_plot(data, P):\n",
    "    my_colors = list(islice(cycle(['b', 'r', 'g', 'y', 'k']), None, len(P)))\n",
    "    plt.figure(figsize=(15,8)).gca().axes.set_ylim([-3,+3])\n",
    "    parallel_coordinates(data, 'prediction', color = my_colors, marker='o')"
   ]
  },
  {
   "cell_type": "markdown",
   "metadata": {
    "papermill": {
     "duration": 0.229679,
     "end_time": "2020-09-11T16:38:25.629583",
     "exception": false,
     "start_time": "2020-09-11T16:38:25.399904",
     "status": "completed"
    },
    "tags": []
   },
   "source": [
    "`Execute the cell to load the minute weather data in minute_weather.csv.`"
   ]
  },
  {
   "cell_type": "code",
   "execution_count": 32,
   "metadata": {
    "execution": {
     "iopub.execute_input": "2020-09-11T16:38:26.088825Z",
     "iopub.status.busy": "2020-09-11T16:38:26.087730Z",
     "iopub.status.idle": "2020-09-11T16:38:31.058532Z",
     "shell.execute_reply": "2020-09-11T16:38:31.059576Z"
    },
    "papermill": {
     "duration": 5.202905,
     "end_time": "2020-09-11T16:38:31.059849",
     "exception": false,
     "start_time": "2020-09-11T16:38:25.856944",
     "status": "completed"
    },
    "tags": []
   },
   "outputs": [],
   "source": [
    "df = sqlContext.read.load('../input/san-diego-daily-weather-data/minute_weather.csv', \n",
    "                          format='com.databricks.spark.csv', \n",
    "                          header='true',inferSchema='true')"
   ]
  },
  {
   "cell_type": "code",
   "execution_count": 33,
   "metadata": {
    "execution": {
     "iopub.execute_input": "2020-09-11T16:38:31.518471Z",
     "iopub.status.busy": "2020-09-11T16:38:31.517123Z",
     "iopub.status.idle": "2020-09-11T16:38:32.373704Z",
     "shell.execute_reply": "2020-09-11T16:38:32.373007Z"
    },
    "papermill": {
     "duration": 1.082945,
     "end_time": "2020-09-11T16:38:32.373862",
     "exception": false,
     "start_time": "2020-09-11T16:38:31.290917",
     "status": "completed"
    },
    "tags": []
   },
   "outputs": [
    {
     "data": {
      "text/plain": [
       "1587257"
      ]
     },
     "execution_count": 33,
     "metadata": {},
     "output_type": "execute_result"
    }
   ],
   "source": [
    "df.count()"
   ]
  },
  {
   "cell_type": "markdown",
   "metadata": {
    "papermill": {
     "duration": 0.226499,
     "end_time": "2020-09-11T16:38:32.831207",
     "exception": false,
     "start_time": "2020-09-11T16:38:32.604708",
     "status": "completed"
    },
    "tags": []
   },
   "source": [
    "`There are over 1.5 million rows in the DataFrame. Clustering this data on your computer in the Cloudera VM can take a long time, so let's only one-tenth of the data. We can subset by calling filter() and using the rowID column.`"
   ]
  },
  {
   "cell_type": "code",
   "execution_count": 34,
   "metadata": {
    "execution": {
     "iopub.execute_input": "2020-09-11T16:38:33.288220Z",
     "iopub.status.busy": "2020-09-11T16:38:33.287074Z",
     "iopub.status.idle": "2020-09-11T16:38:35.145612Z",
     "shell.execute_reply": "2020-09-11T16:38:35.144867Z"
    },
    "papermill": {
     "duration": 2.089423,
     "end_time": "2020-09-11T16:38:35.145764",
     "exception": false,
     "start_time": "2020-09-11T16:38:33.056341",
     "status": "completed"
    },
    "tags": []
   },
   "outputs": [
    {
     "data": {
      "text/plain": [
       "158726"
      ]
     },
     "execution_count": 34,
     "metadata": {},
     "output_type": "execute_result"
    }
   ],
   "source": [
    "filteredDF = df.filter((df.rowID % 10 == 0))\n",
    "filteredDF.count()"
   ]
  },
  {
   "cell_type": "markdown",
   "metadata": {
    "papermill": {
     "duration": 0.220432,
     "end_time": "2020-09-11T16:38:35.587668",
     "exception": false,
     "start_time": "2020-09-11T16:38:35.367236",
     "status": "completed"
    },
    "tags": []
   },
   "source": [
    "`Let's compute the summary statistics using describe().`"
   ]
  },
  {
   "cell_type": "code",
   "execution_count": 35,
   "metadata": {
    "execution": {
     "iopub.execute_input": "2020-09-11T16:38:36.041221Z",
     "iopub.status.busy": "2020-09-11T16:38:36.040162Z",
     "iopub.status.idle": "2020-09-11T16:38:42.808202Z",
     "shell.execute_reply": "2020-09-11T16:38:42.807078Z"
    },
    "papermill": {
     "duration": 7.000314,
     "end_time": "2020-09-11T16:38:42.808440",
     "exception": false,
     "start_time": "2020-09-11T16:38:35.808126",
     "status": "completed"
    },
    "tags": []
   },
   "outputs": [
    {
     "data": {
      "text/html": [
       "<div>\n",
       "<style scoped>\n",
       "    .dataframe tbody tr th:only-of-type {\n",
       "        vertical-align: middle;\n",
       "    }\n",
       "\n",
       "    .dataframe tbody tr th {\n",
       "        vertical-align: top;\n",
       "    }\n",
       "\n",
       "    .dataframe thead th {\n",
       "        text-align: right;\n",
       "    }\n",
       "</style>\n",
       "<table border=\"1\" class=\"dataframe\">\n",
       "  <thead>\n",
       "    <tr style=\"text-align: right;\">\n",
       "      <th></th>\n",
       "      <th>0</th>\n",
       "      <th>1</th>\n",
       "      <th>2</th>\n",
       "      <th>3</th>\n",
       "      <th>4</th>\n",
       "    </tr>\n",
       "  </thead>\n",
       "  <tbody>\n",
       "    <tr>\n",
       "      <th>summary</th>\n",
       "      <td>count</td>\n",
       "      <td>mean</td>\n",
       "      <td>stddev</td>\n",
       "      <td>min</td>\n",
       "      <td>max</td>\n",
       "    </tr>\n",
       "    <tr>\n",
       "      <th>rowID</th>\n",
       "      <td>158726</td>\n",
       "      <td>793625.0</td>\n",
       "      <td>458203.9375103623</td>\n",
       "      <td>0</td>\n",
       "      <td>1587250</td>\n",
       "    </tr>\n",
       "    <tr>\n",
       "      <th>hpwren_timestamp</th>\n",
       "      <td>158726</td>\n",
       "      <td>None</td>\n",
       "      <td>None</td>\n",
       "      <td>2011-09-10 00:00:49</td>\n",
       "      <td>2014-09-10 23:53:29</td>\n",
       "    </tr>\n",
       "    <tr>\n",
       "      <th>air_pressure</th>\n",
       "      <td>158726</td>\n",
       "      <td>916.8301614102414</td>\n",
       "      <td>3.0517165528314516</td>\n",
       "      <td>905.0</td>\n",
       "      <td>929.5</td>\n",
       "    </tr>\n",
       "    <tr>\n",
       "      <th>air_temp</th>\n",
       "      <td>158726</td>\n",
       "      <td>61.8515891536364</td>\n",
       "      <td>11.833569210641642</td>\n",
       "      <td>31.64</td>\n",
       "      <td>99.5</td>\n",
       "    </tr>\n",
       "    <tr>\n",
       "      <th>avg_wind_direction</th>\n",
       "      <td>158680</td>\n",
       "      <td>162.15610032770354</td>\n",
       "      <td>95.27820101905921</td>\n",
       "      <td>0.0</td>\n",
       "      <td>359.0</td>\n",
       "    </tr>\n",
       "    <tr>\n",
       "      <th>avg_wind_speed</th>\n",
       "      <td>158680</td>\n",
       "      <td>2.7752148979077447</td>\n",
       "      <td>2.0576239697426435</td>\n",
       "      <td>0.0</td>\n",
       "      <td>31.9</td>\n",
       "    </tr>\n",
       "    <tr>\n",
       "      <th>max_wind_direction</th>\n",
       "      <td>158680</td>\n",
       "      <td>163.46214393748426</td>\n",
       "      <td>92.45213853838722</td>\n",
       "      <td>0.0</td>\n",
       "      <td>359.0</td>\n",
       "    </tr>\n",
       "    <tr>\n",
       "      <th>max_wind_speed</th>\n",
       "      <td>158680</td>\n",
       "      <td>3.4005577262415194</td>\n",
       "      <td>2.418801620809888</td>\n",
       "      <td>0.1</td>\n",
       "      <td>36.0</td>\n",
       "    </tr>\n",
       "    <tr>\n",
       "      <th>min_wind_direction</th>\n",
       "      <td>158680</td>\n",
       "      <td>166.77401688933702</td>\n",
       "      <td>97.44110914784571</td>\n",
       "      <td>0.0</td>\n",
       "      <td>359.0</td>\n",
       "    </tr>\n",
       "    <tr>\n",
       "      <th>min_wind_speed</th>\n",
       "      <td>158680</td>\n",
       "      <td>2.134664103856878</td>\n",
       "      <td>1.742112505242437</td>\n",
       "      <td>0.0</td>\n",
       "      <td>31.6</td>\n",
       "    </tr>\n",
       "    <tr>\n",
       "      <th>rain_accumulation</th>\n",
       "      <td>158725</td>\n",
       "      <td>3.178453299732825E-4</td>\n",
       "      <td>0.01123597908603982</td>\n",
       "      <td>0.0</td>\n",
       "      <td>3.12</td>\n",
       "    </tr>\n",
       "    <tr>\n",
       "      <th>rain_duration</th>\n",
       "      <td>158725</td>\n",
       "      <td>0.4096267128681682</td>\n",
       "      <td>8.665522693479774</td>\n",
       "      <td>0.0</td>\n",
       "      <td>2960.0</td>\n",
       "    </tr>\n",
       "    <tr>\n",
       "      <th>relative_humidity</th>\n",
       "      <td>158726</td>\n",
       "      <td>47.609469778108185</td>\n",
       "      <td>26.214408535062045</td>\n",
       "      <td>0.9</td>\n",
       "      <td>93.0</td>\n",
       "    </tr>\n",
       "  </tbody>\n",
       "</table>\n",
       "</div>"
      ],
      "text/plain": [
       "                         0                     1                    2  \\\n",
       "summary              count                  mean               stddev   \n",
       "rowID               158726              793625.0    458203.9375103623   \n",
       "hpwren_timestamp    158726                  None                 None   \n",
       "air_pressure        158726     916.8301614102414   3.0517165528314516   \n",
       "air_temp            158726      61.8515891536364   11.833569210641642   \n",
       "avg_wind_direction  158680    162.15610032770354    95.27820101905921   \n",
       "avg_wind_speed      158680    2.7752148979077447   2.0576239697426435   \n",
       "max_wind_direction  158680    163.46214393748426    92.45213853838722   \n",
       "max_wind_speed      158680    3.4005577262415194    2.418801620809888   \n",
       "min_wind_direction  158680    166.77401688933702    97.44110914784571   \n",
       "min_wind_speed      158680     2.134664103856878    1.742112505242437   \n",
       "rain_accumulation   158725  3.178453299732825E-4  0.01123597908603982   \n",
       "rain_duration       158725    0.4096267128681682    8.665522693479774   \n",
       "relative_humidity   158726    47.609469778108185   26.214408535062045   \n",
       "\n",
       "                                      3                    4  \n",
       "summary                             min                  max  \n",
       "rowID                                 0              1587250  \n",
       "hpwren_timestamp    2011-09-10 00:00:49  2014-09-10 23:53:29  \n",
       "air_pressure                      905.0                929.5  \n",
       "air_temp                          31.64                 99.5  \n",
       "avg_wind_direction                  0.0                359.0  \n",
       "avg_wind_speed                      0.0                 31.9  \n",
       "max_wind_direction                  0.0                359.0  \n",
       "max_wind_speed                      0.1                 36.0  \n",
       "min_wind_direction                  0.0                359.0  \n",
       "min_wind_speed                      0.0                 31.6  \n",
       "rain_accumulation                   0.0                 3.12  \n",
       "rain_duration                       0.0               2960.0  \n",
       "relative_humidity                   0.9                 93.0  "
      ]
     },
     "execution_count": 35,
     "metadata": {},
     "output_type": "execute_result"
    }
   ],
   "source": [
    "filteredDF.describe().toPandas().T"
   ]
  },
  {
   "cell_type": "markdown",
   "metadata": {
    "papermill": {
     "duration": 0.226752,
     "end_time": "2020-09-11T16:38:43.321048",
     "exception": false,
     "start_time": "2020-09-11T16:38:43.094296",
     "status": "completed"
    },
    "tags": []
   },
   "source": [
    "`The weather measurements in this dataset were collected during a drought in San Diego. We can count the how many values of rain accumulation and duration are 0.`"
   ]
  },
  {
   "cell_type": "code",
   "execution_count": 36,
   "metadata": {
    "execution": {
     "iopub.execute_input": "2020-09-11T16:38:43.781984Z",
     "iopub.status.busy": "2020-09-11T16:38:43.781115Z",
     "iopub.status.idle": "2020-09-11T16:38:45.533764Z",
     "shell.execute_reply": "2020-09-11T16:38:45.533045Z"
    },
    "papermill": {
     "duration": 1.985921,
     "end_time": "2020-09-11T16:38:45.533921",
     "exception": false,
     "start_time": "2020-09-11T16:38:43.548000",
     "status": "completed"
    },
    "tags": []
   },
   "outputs": [
    {
     "data": {
      "text/plain": [
       "157812"
      ]
     },
     "execution_count": 36,
     "metadata": {},
     "output_type": "execute_result"
    }
   ],
   "source": [
    "filteredDF.filter(filteredDF.rain_accumulation == 0).count()"
   ]
  },
  {
   "cell_type": "code",
   "execution_count": 37,
   "metadata": {
    "execution": {
     "iopub.execute_input": "2020-09-11T16:38:45.990492Z",
     "iopub.status.busy": "2020-09-11T16:38:45.989340Z",
     "iopub.status.idle": "2020-09-11T16:38:47.654230Z",
     "shell.execute_reply": "2020-09-11T16:38:47.653527Z"
    },
    "papermill": {
     "duration": 1.896298,
     "end_time": "2020-09-11T16:38:47.654426",
     "exception": false,
     "start_time": "2020-09-11T16:38:45.758128",
     "status": "completed"
    },
    "tags": []
   },
   "outputs": [
    {
     "data": {
      "text/plain": [
       "157237"
      ]
     },
     "execution_count": 37,
     "metadata": {},
     "output_type": "execute_result"
    }
   ],
   "source": [
    "filteredDF.filter(filteredDF.rain_duration == 0).count()"
   ]
  },
  {
   "cell_type": "markdown",
   "metadata": {
    "papermill": {
     "duration": 0.229876,
     "end_time": "2020-09-11T16:38:48.113040",
     "exception": false,
     "start_time": "2020-09-11T16:38:47.883164",
     "status": "completed"
    },
    "tags": []
   },
   "source": [
    "`Since most the values for these columns are 0, let's drop them from the DataFrame to speed up our analyses. We can also drop the hpwren_timestamp column since we do not use it.`"
   ]
  },
  {
   "cell_type": "code",
   "execution_count": 38,
   "metadata": {
    "execution": {
     "iopub.execute_input": "2020-09-11T16:38:48.584666Z",
     "iopub.status.busy": "2020-09-11T16:38:48.583517Z",
     "iopub.status.idle": "2020-09-11T16:38:48.606820Z",
     "shell.execute_reply": "2020-09-11T16:38:48.605735Z"
    },
    "papermill": {
     "duration": 0.26242,
     "end_time": "2020-09-11T16:38:48.607039",
     "exception": false,
     "start_time": "2020-09-11T16:38:48.344619",
     "status": "completed"
    },
    "tags": []
   },
   "outputs": [],
   "source": [
    "workingDF = filteredDF.drop('rain_accumulation').drop('rain_duration').drop('hpwren_timestamp')"
   ]
  },
  {
   "cell_type": "markdown",
   "metadata": {
    "papermill": {
     "duration": 0.230812,
     "end_time": "2020-09-11T16:38:49.072366",
     "exception": false,
     "start_time": "2020-09-11T16:38:48.841554",
     "status": "completed"
    },
    "tags": []
   },
   "source": [
    "`Let's drop rows with missing values and count how many rows were dropped.`"
   ]
  },
  {
   "cell_type": "code",
   "execution_count": 39,
   "metadata": {
    "execution": {
     "iopub.execute_input": "2020-09-11T16:38:49.548233Z",
     "iopub.status.busy": "2020-09-11T16:38:49.546981Z",
     "iopub.status.idle": "2020-09-11T16:38:53.900083Z",
     "shell.execute_reply": "2020-09-11T16:38:53.899094Z"
    },
    "papermill": {
     "duration": 4.598521,
     "end_time": "2020-09-11T16:38:53.900348",
     "exception": false,
     "start_time": "2020-09-11T16:38:49.301827",
     "status": "completed"
    },
    "tags": []
   },
   "outputs": [
    {
     "name": "stdout",
     "output_type": "stream",
     "text": [
      "46\n"
     ]
    }
   ],
   "source": [
    "before = workingDF.count()\n",
    "workingDF = workingDF.na.drop()\n",
    "after = workingDF.count()\n",
    "print(before - after)"
   ]
  },
  {
   "cell_type": "code",
   "execution_count": 40,
   "metadata": {
    "execution": {
     "iopub.execute_input": "2020-09-11T16:38:54.371505Z",
     "iopub.status.busy": "2020-09-11T16:38:54.370700Z",
     "iopub.status.idle": "2020-09-11T16:38:54.378735Z",
     "shell.execute_reply": "2020-09-11T16:38:54.378026Z"
    },
    "papermill": {
     "duration": 0.2428,
     "end_time": "2020-09-11T16:38:54.378879",
     "exception": false,
     "start_time": "2020-09-11T16:38:54.136079",
     "status": "completed"
    },
    "tags": []
   },
   "outputs": [
    {
     "data": {
      "text/plain": [
       "['rowID',\n",
       " 'air_pressure',\n",
       " 'air_temp',\n",
       " 'avg_wind_direction',\n",
       " 'avg_wind_speed',\n",
       " 'max_wind_direction',\n",
       " 'max_wind_speed',\n",
       " 'min_wind_direction',\n",
       " 'min_wind_speed',\n",
       " 'relative_humidity']"
      ]
     },
     "execution_count": 40,
     "metadata": {},
     "output_type": "execute_result"
    }
   ],
   "source": [
    "workingDF.columns"
   ]
  },
  {
   "cell_type": "markdown",
   "metadata": {
    "papermill": {
     "duration": 0.22603,
     "end_time": "2020-09-11T16:38:54.830667",
     "exception": false,
     "start_time": "2020-09-11T16:38:54.604637",
     "status": "completed"
    },
    "tags": []
   },
   "source": [
    "Scale the data. Since the features are on different scales (e.g., air pressure values are in the 900’s, while relative humidities range from 0 to 100), they need to be scaled. We will scale them so that each feature will have a value of 0 for the mean, and a value of 1 for the standard deviation.\n",
    "\n",
    "`First, we will combine the columns into a single vector column. Let's look at the columns in the DataFrame.`"
   ]
  },
  {
   "cell_type": "code",
   "execution_count": 41,
   "metadata": {
    "execution": {
     "iopub.execute_input": "2020-09-11T16:38:55.298246Z",
     "iopub.status.busy": "2020-09-11T16:38:55.297173Z",
     "iopub.status.idle": "2020-09-11T16:38:55.334999Z",
     "shell.execute_reply": "2020-09-11T16:38:55.334331Z"
    },
    "papermill": {
     "duration": 0.274673,
     "end_time": "2020-09-11T16:38:55.335146",
     "exception": false,
     "start_time": "2020-09-11T16:38:55.060473",
     "status": "completed"
    },
    "tags": []
   },
   "outputs": [],
   "source": [
    "featuresUsed = ['air_pressure','air_temp','avg_wind_direction','avg_wind_speed','max_wind_direction',\n",
    "                'max_wind_speed','relative_humidity']\n",
    "assembler = VectorAssembler(inputCols=featuresUsed,outputCol='features_unscaled')\n",
    "assembled = assembler.transform(workingDF)"
   ]
  },
  {
   "cell_type": "code",
   "execution_count": 42,
   "metadata": {
    "execution": {
     "iopub.execute_input": "2020-09-11T16:38:55.792783Z",
     "iopub.status.busy": "2020-09-11T16:38:55.791636Z",
     "iopub.status.idle": "2020-09-11T16:38:55.975477Z",
     "shell.execute_reply": "2020-09-11T16:38:55.974211Z"
    },
    "papermill": {
     "duration": 0.414409,
     "end_time": "2020-09-11T16:38:55.975654",
     "exception": false,
     "start_time": "2020-09-11T16:38:55.561245",
     "status": "completed"
    },
    "tags": []
   },
   "outputs": [
    {
     "name": "stdout",
     "output_type": "stream",
     "text": [
      "+-----+------------+--------+------------------+--------------+------------------+--------------+------------------+--------------+-----------------+--------------------+\n",
      "|rowID|air_pressure|air_temp|avg_wind_direction|avg_wind_speed|max_wind_direction|max_wind_speed|min_wind_direction|min_wind_speed|relative_humidity|   features_unscaled|\n",
      "+-----+------------+--------+------------------+--------------+------------------+--------------+------------------+--------------+-----------------+--------------------+\n",
      "|    0|       912.3|   64.76|              97.0|           1.2|             106.0|           1.6|              85.0|           1.0|             60.5|[912.3,64.76,97.0...|\n",
      "|   10|       912.3|   62.24|             144.0|           1.2|             167.0|           1.8|             115.0|           0.6|             38.5|[912.3,62.24,144....|\n",
      "+-----+------------+--------+------------------+--------------+------------------+--------------+------------------+--------------+-----------------+--------------------+\n",
      "only showing top 2 rows\n",
      "\n"
     ]
    }
   ],
   "source": [
    "assembled.show(2)"
   ]
  },
  {
   "cell_type": "markdown",
   "metadata": {
    "papermill": {
     "duration": 0.239259,
     "end_time": "2020-09-11T16:38:56.546796",
     "exception": false,
     "start_time": "2020-09-11T16:38:56.307537",
     "status": "completed"
    },
    "tags": []
   },
   "source": [
    "`Next, let's use StandardScaler to scale the data.`"
   ]
  },
  {
   "cell_type": "markdown",
   "metadata": {
    "papermill": {
     "duration": 0.229871,
     "end_time": "2020-09-11T16:38:57.011314",
     "exception": false,
     "start_time": "2020-09-11T16:38:56.781443",
     "status": "completed"
    },
    "tags": []
   },
   "source": [
    "The withMean argument specifies to center the data with the mean before scaling, and withStd specifies to scale the data to the unit standard deviation."
   ]
  },
  {
   "cell_type": "code",
   "execution_count": 43,
   "metadata": {
    "execution": {
     "iopub.execute_input": "2020-09-11T16:38:57.482297Z",
     "iopub.status.busy": "2020-09-11T16:38:57.481455Z",
     "iopub.status.idle": "2020-09-11T16:39:01.188311Z",
     "shell.execute_reply": "2020-09-11T16:39:01.186571Z"
    },
    "papermill": {
     "duration": 3.946565,
     "end_time": "2020-09-11T16:39:01.188588",
     "exception": false,
     "start_time": "2020-09-11T16:38:57.242023",
     "status": "completed"
    },
    "tags": []
   },
   "outputs": [],
   "source": [
    "scaler = StandardScaler(inputCol='features_unscaled',outputCol='features',withMean=True,withStd=True)\n",
    "scalerModel = scaler.fit(assembled)\n",
    "scalerData = scalerModel.transform(assembled)"
   ]
  },
  {
   "cell_type": "code",
   "execution_count": 44,
   "metadata": {
    "execution": {
     "iopub.execute_input": "2020-09-11T16:39:01.686805Z",
     "iopub.status.busy": "2020-09-11T16:39:01.685445Z",
     "iopub.status.idle": "2020-09-11T16:39:01.947226Z",
     "shell.execute_reply": "2020-09-11T16:39:01.945781Z"
    },
    "papermill": {
     "duration": 0.517311,
     "end_time": "2020-09-11T16:39:01.947478",
     "exception": false,
     "start_time": "2020-09-11T16:39:01.430167",
     "status": "completed"
    },
    "tags": []
   },
   "outputs": [
    {
     "name": "stdout",
     "output_type": "stream",
     "text": [
      "+-----+------------+--------+------------------+--------------+------------------+--------------+------------------+--------------+-----------------+--------------------+--------------------+\n",
      "|rowID|air_pressure|air_temp|avg_wind_direction|avg_wind_speed|max_wind_direction|max_wind_speed|min_wind_direction|min_wind_speed|relative_humidity|   features_unscaled|            features|\n",
      "+-----+------------+--------+------------------+--------------+------------------+--------------+------------------+--------------+-----------------+--------------------+--------------------+\n",
      "|    0|       912.3|   64.76|              97.0|           1.2|             106.0|           1.6|              85.0|           1.0|             60.5|[912.3,64.76,97.0...|[-1.4845581289512...|\n",
      "|   10|       912.3|   62.24|             144.0|           1.2|             167.0|           1.8|             115.0|           0.6|             38.5|[912.3,62.24,144....|[-1.4845581289512...|\n",
      "+-----+------------+--------+------------------+--------------+------------------+--------------+------------------+--------------+-----------------+--------------------+--------------------+\n",
      "only showing top 2 rows\n",
      "\n"
     ]
    }
   ],
   "source": [
    "scalerData.show(2)"
   ]
  },
  {
   "cell_type": "markdown",
   "metadata": {
    "papermill": {
     "duration": 0.232549,
     "end_time": "2020-09-11T16:39:02.415725",
     "exception": false,
     "start_time": "2020-09-11T16:39:02.183176",
     "status": "completed"
    },
    "tags": []
   },
   "source": [
    "**Create elbow plot.** The k-means algorithm requires that the value of k, the number of clusters, to be specified. To determine a good value for k, we will use the “elbow” method. This method involves applying k-means, using different values for k, and calculating the within-cluster sum-of-squared error (WSSE). Since this means applying k-means multiple times, this process can be very compute-intensive. To speed up the process, we will use only a subset of the dataset. We will take every third sample from the dataset to create this subset."
   ]
  },
  {
   "cell_type": "code",
   "execution_count": 45,
   "metadata": {
    "execution": {
     "iopub.execute_input": "2020-09-11T16:39:02.894316Z",
     "iopub.status.busy": "2020-09-11T16:39:02.893201Z",
     "iopub.status.idle": "2020-09-11T16:39:03.035418Z",
     "shell.execute_reply": "2020-09-11T16:39:03.034334Z"
    },
    "papermill": {
     "duration": 0.381101,
     "end_time": "2020-09-11T16:39:03.035635",
     "exception": false,
     "start_time": "2020-09-11T16:39:02.654534",
     "status": "completed"
    },
    "tags": []
   },
   "outputs": [
    {
     "data": {
      "text/plain": [
       "DataFrame[features: vector]"
      ]
     },
     "execution_count": 45,
     "metadata": {},
     "output_type": "execute_result"
    }
   ],
   "source": [
    "scalerData = scalerData.select(\"features\",\"rowID\")\n",
    "\n",
    "elbowset = scalerData.filter(scalerData.rowID % 3 == 0).select(\"features\")\n",
    "elbowset.persist()"
   ]
  },
  {
   "cell_type": "markdown",
   "metadata": {
    "papermill": {
     "duration": 0.254177,
     "end_time": "2020-09-11T16:39:03.523833",
     "exception": false,
     "start_time": "2020-09-11T16:39:03.269656",
     "status": "completed"
    },
    "tags": []
   },
   "source": [
    "The last line calls the persist() method to tell Spark to keep the data in memory (if possible), which will speed up the computations.\n",
    "\n",
    "`Let's compute the k-means clusters for k = 2 to 30 to create an elbow plot.`"
   ]
  },
  {
   "cell_type": "code",
   "execution_count": 46,
   "metadata": {
    "_kg_hide-output": true,
    "execution": {
     "iopub.execute_input": "2020-09-11T16:39:04.029425Z",
     "iopub.status.busy": "2020-09-11T16:39:04.028530Z",
     "iopub.status.idle": "2020-09-11T16:42:15.961144Z",
     "shell.execute_reply": "2020-09-11T16:42:15.961858Z"
    },
    "papermill": {
     "duration": 192.177754,
     "end_time": "2020-09-11T16:42:15.962126",
     "exception": false,
     "start_time": "2020-09-11T16:39:03.784372",
     "status": "completed"
    },
    "tags": []
   },
   "outputs": [
    {
     "name": "stdout",
     "output_type": "stream",
     "text": [
      "Training for cluster size 2 \n",
      "......................WSSE = 116110.94692884522 \n",
      "Training for cluster size 3 \n",
      "......................WSSE = 102465.96894907909 \n",
      "Training for cluster size 4 \n",
      "......................WSSE = 95152.57524085406 \n",
      "Training for cluster size 5 \n",
      "......................WSSE = 87993.46098415159 \n",
      "Training for cluster size 6 \n",
      "......................WSSE = 84906.12134336651 \n",
      "Training for cluster size 7 \n",
      "......................WSSE = 81557.68079071301 \n",
      "Training for cluster size 8 \n",
      "......................WSSE = 78326.22394629859 \n",
      "Training for cluster size 9 \n",
      "......................WSSE = 75639.93609983507 \n",
      "Training for cluster size 10 \n",
      "......................WSSE = 74668.31266821917 \n",
      "Training for cluster size 11 \n",
      "......................WSSE = 72585.55851107379 \n",
      "Training for cluster size 12 \n",
      "......................WSSE = 70246.4471304457 \n",
      "Training for cluster size 13 \n",
      "......................WSSE = 70539.71718158794 \n",
      "Training for cluster size 14 \n",
      "......................WSSE = 67402.39857912782 \n",
      "Training for cluster size 15 \n",
      "......................WSSE = 66353.65025353775 \n",
      "Training for cluster size 16 \n",
      "......................WSSE = 65483.116604176816 \n",
      "Training for cluster size 17 \n",
      "......................WSSE = 64809.242497813575 \n",
      "Training for cluster size 18 \n",
      "......................WSSE = 63951.24125435147 \n",
      "Training for cluster size 19 \n",
      "......................WSSE = 64406.3397094766 \n",
      "Training for cluster size 20 \n",
      "......................WSSE = 62119.51828844828 \n",
      "Training for cluster size 21 \n",
      "......................WSSE = 61772.301683652826 \n",
      "Training for cluster size 22 \n",
      "......................WSSE = 61532.532562928085 \n",
      "Training for cluster size 23 \n",
      "......................WSSE = 60695.200672412764 \n",
      "Training for cluster size 24 \n",
      "......................WSSE = 59620.681243151725 \n",
      "Training for cluster size 25 \n",
      "......................WSSE = 59408.93411422458 \n",
      "Training for cluster size 26 \n",
      "......................WSSE = 58462.62702407981 \n",
      "Training for cluster size 27 \n",
      "......................WSSE = 58357.71136584826 \n",
      "Training for cluster size 28 \n",
      "......................WSSE = 57834.056997031315 \n",
      "Training for cluster size 29 \n",
      "......................WSSE = 56917.17603720043 \n",
      "Training for cluster size 30 \n",
      "......................WSSE = 56803.23590573453 \n"
     ]
    }
   ],
   "source": [
    "clusters = range(2,31)\n",
    "\n",
    "wsseList = elbow(elbowset,clusters)"
   ]
  },
  {
   "cell_type": "markdown",
   "metadata": {
    "papermill": {
     "duration": 0.243773,
     "end_time": "2020-09-11T16:42:16.466020",
     "exception": false,
     "start_time": "2020-09-11T16:42:16.222247",
     "status": "completed"
    },
    "tags": []
   },
   "source": [
    "The first line creates an array with the numbers 2 through 30, and the second line calls the elbow() function defined in the utils.py library to perform clustering. The first argument to elbow() is the dataset, and the second is the array of values for k. The elbow() function returns an array of the WSSE for each number of clusters.\n",
    "\n",
    "`Let's plot the results by calling elbow_plot().`"
   ]
  },
  {
   "cell_type": "code",
   "execution_count": 47,
   "metadata": {
    "execution": {
     "iopub.execute_input": "2020-09-11T16:42:16.961709Z",
     "iopub.status.busy": "2020-09-11T16:42:16.960794Z",
     "iopub.status.idle": "2020-09-11T16:42:17.303759Z",
     "shell.execute_reply": "2020-09-11T16:42:17.302959Z"
    },
    "papermill": {
     "duration": 0.593536,
     "end_time": "2020-09-11T16:42:17.303901",
     "exception": false,
     "start_time": "2020-09-11T16:42:16.710365",
     "status": "completed"
    },
    "tags": []
   },
   "outputs": [
    {
     "data": {
      "image/png": "[encoded data removed]",
      "text/plain": [
       "<Figure size 1080x720 with 1 Axes>"
      ]
     },
     "metadata": {
      "needs_background": "light"
     },
     "output_type": "display_data"
    }
   ],
   "source": [
    "elbow_plot(wsseList,clusters)"
   ]
  },
  {
   "cell_type": "markdown",
   "metadata": {
    "papermill": {
     "duration": 0.248844,
     "end_time": "2020-09-11T16:42:17.800381",
     "exception": false,
     "start_time": "2020-09-11T16:42:17.551537",
     "status": "completed"
    },
    "tags": []
   },
   "source": [
    "The values for k are plotted against the WSSE values, and the elbow, or bend in the curve, provides a good estimate for the value for k. In this plot, we see that the elbow in the curve is between 10 and 15, so let's choose k = 12. We will use this value to set the number of clusters for k-means."
   ]
  },
  {
   "cell_type": "code",
   "execution_count": 48,
   "metadata": {
    "execution": {
     "iopub.execute_input": "2020-09-11T16:42:18.302801Z",
     "iopub.status.busy": "2020-09-11T16:42:18.301746Z",
     "iopub.status.idle": "2020-09-11T16:42:18.350117Z",
     "shell.execute_reply": "2020-09-11T16:42:18.349338Z"
    },
    "papermill": {
     "duration": 0.303206,
     "end_time": "2020-09-11T16:42:18.350247",
     "exception": false,
     "start_time": "2020-09-11T16:42:18.047041",
     "status": "completed"
    },
    "tags": []
   },
   "outputs": [
    {
     "data": {
      "text/plain": [
       "DataFrame[features: vector]"
      ]
     },
     "execution_count": 48,
     "metadata": {},
     "output_type": "execute_result"
    }
   ],
   "source": [
    "scaledDataFeat = scalerData.select('features')\n",
    "scaledDataFeat.persist()"
   ]
  },
  {
   "cell_type": "markdown",
   "metadata": {
    "papermill": {
     "duration": 0.244553,
     "end_time": "2020-09-11T16:42:18.843514",
     "exception": false,
     "start_time": "2020-09-11T16:42:18.598961",
     "status": "completed"
    },
    "tags": []
   },
   "source": [
    "The first line creates a new KMeans instance with 12 clusters and a specific seed value. (As in previous hands-on activities, we use a specific seed value for reproducible results.) The second line fits the data to the model, and the third applies the model to the data.\n",
    "\n",
    "`Once the model is created, we can determine the center measurement of each cluster.`"
   ]
  },
  {
   "cell_type": "code",
   "execution_count": 49,
   "metadata": {
    "execution": {
     "iopub.execute_input": "2020-09-11T16:42:19.344755Z",
     "iopub.status.busy": "2020-09-11T16:42:19.343883Z",
     "iopub.status.idle": "2020-09-11T16:42:30.633815Z",
     "shell.execute_reply": "2020-09-11T16:42:30.633084Z"
    },
    "papermill": {
     "duration": 11.544055,
     "end_time": "2020-09-11T16:42:30.633973",
     "exception": false,
     "start_time": "2020-09-11T16:42:19.089918",
     "status": "completed"
    },
    "tags": []
   },
   "outputs": [],
   "source": [
    "kmeans = KMeans(k = 12, seed=1)\n",
    "model = kmeans.fit(scaledDataFeat)\n",
    "\n",
    "transformed = model.transform(scaledDataFeat)"
   ]
  },
  {
   "cell_type": "code",
   "execution_count": 50,
   "metadata": {
    "_kg_hide-output": true,
    "execution": {
     "iopub.execute_input": "2020-09-11T16:42:31.164683Z",
     "iopub.status.busy": "2020-09-11T16:42:31.163233Z",
     "iopub.status.idle": "2020-09-11T16:42:31.182419Z",
     "shell.execute_reply": "2020-09-11T16:42:31.183314Z"
    },
    "papermill": {
     "duration": 0.301315,
     "end_time": "2020-09-11T16:42:31.183612",
     "exception": false,
     "start_time": "2020-09-11T16:42:30.882297",
     "status": "completed"
    },
    "tags": []
   },
   "outputs": [
    {
     "data": {
      "text/plain": [
       "[array([ 0.23862654,  0.31134856,  1.88818402, -0.65263889, -1.5507189 ,\n",
       "        -0.57731762, -0.27628725]),\n",
       " array([-0.77189796, -0.10325633,  0.44012451,  1.53154542,  0.52564327,\n",
       "         1.46055857,  0.22969611]),\n",
       " array([ 1.189134  , -0.25128657, -1.15481277,  2.07893983, -1.05267645,\n",
       "         2.1952909 , -1.13101972]),\n",
       " array([-1.55854953, -1.40903273,  0.39115013,  2.16691259,  0.50010737,\n",
       "         2.13527566,  1.50575845]),\n",
       " array([ 0.53986028, -0.96950459,  0.83538105, -0.55276297,  1.04974319,\n",
       "        -0.52675456,  0.95661038]),\n",
       " array([-0.71820835, -0.00888325,  0.0991225 , -0.65685135,  0.28292777,\n",
       "        -0.66241855,  0.34981034]),\n",
       " array([-0.18319451,  0.85775867, -1.28472876, -0.59754225, -1.13652643,\n",
       "        -0.61274245, -0.62565969]),\n",
       " array([-0.03959381,  0.72903715,  0.39829629,  0.37118846,  0.51223037,\n",
       "         0.32973963, -0.30378681]),\n",
       " array([ 0.13219485, -0.83781548, -1.22239113, -0.5531094 , -1.07278337,\n",
       "        -0.56782597,  0.89822913]),\n",
       " array([ 0.18177807,  0.88247336,  0.87294009, -0.69435152,  1.10067395,\n",
       "        -0.6734131 , -0.78246879]),\n",
       " array([ 1.3691501 , -0.07038314, -1.13129823, -0.13048433, -0.98809452,\n",
       "        -0.11123514, -0.98849907]),\n",
       " array([-0.69024133, -1.24498484,  0.39173733,  0.32645615,  0.48812719,\n",
       "         0.31337108,  1.40994844])]"
      ]
     },
     "execution_count": 50,
     "metadata": {},
     "output_type": "execute_result"
    }
   ],
   "source": [
    "centers = model.clusterCenters()\n",
    "centers"
   ]
  },
  {
   "cell_type": "markdown",
   "metadata": {
    "papermill": {
     "duration": 0.301847,
     "end_time": "2020-09-11T16:42:31.756400",
     "exception": false,
     "start_time": "2020-09-11T16:42:31.454553",
     "status": "completed"
    },
    "tags": []
   },
   "source": [
    "`It is difficult to compare the cluster centers by just looking at these numbers. So we will use plots in the next step to visualize them.`"
   ]
  },
  {
   "cell_type": "markdown",
   "metadata": {
    "papermill": {
     "duration": 0.249856,
     "end_time": "2020-09-11T16:42:32.253855",
     "exception": false,
     "start_time": "2020-09-11T16:42:32.003999",
     "status": "completed"
    },
    "tags": []
   },
   "source": [
    "Create parallel plots of clusters and analysis. A parallel coordinates plot is a great way to visualize multi-dimensional data. Each line plots the centroid of a cluster, and all of the features are plotted together. Recall that the feature values were scaled to have mean = 0 and standard deviation = 1. So the values on the y-axis of these parallel coordinates plots show the number of standard deviations from the mean. For example, +1 means one standard deviation higher than the mean of all samples, and -1 means one standard deviation lower than the mean of all samples.\n",
    "\n",
    "We'll create the plots with matplotlib using a Pandas DataFrame each row contains the cluster center coordinates and cluster label. (Matplotlib can plot Pandas DataFrames, but not Spark DataFrames.) Let's use the pd_centers() function."
   ]
  },
  {
   "cell_type": "code",
   "execution_count": 51,
   "metadata": {
    "execution": {
     "iopub.execute_input": "2020-09-11T16:42:32.755683Z",
     "iopub.status.busy": "2020-09-11T16:42:32.754609Z",
     "iopub.status.idle": "2020-09-11T16:42:32.777877Z",
     "shell.execute_reply": "2020-09-11T16:42:32.776962Z"
    },
    "papermill": {
     "duration": 0.277989,
     "end_time": "2020-09-11T16:42:32.778037",
     "exception": false,
     "start_time": "2020-09-11T16:42:32.500048",
     "status": "completed"
    },
    "tags": []
   },
   "outputs": [
    {
     "data": {
      "text/html": [
       "<div>\n",
       "<style scoped>\n",
       "    .dataframe tbody tr th:only-of-type {\n",
       "        vertical-align: middle;\n",
       "    }\n",
       "\n",
       "    .dataframe tbody tr th {\n",
       "        vertical-align: top;\n",
       "    }\n",
       "\n",
       "    .dataframe thead th {\n",
       "        text-align: right;\n",
       "    }\n",
       "</style>\n",
       "<table border=\"1\" class=\"dataframe\">\n",
       "  <thead>\n",
       "    <tr style=\"text-align: right;\">\n",
       "      <th></th>\n",
       "      <th>air_pressure</th>\n",
       "      <th>air_temp</th>\n",
       "      <th>avg_wind_direction</th>\n",
       "      <th>avg_wind_speed</th>\n",
       "      <th>max_wind_direction</th>\n",
       "      <th>max_wind_speed</th>\n",
       "      <th>relative_humidity</th>\n",
       "      <th>prediction</th>\n",
       "    </tr>\n",
       "  </thead>\n",
       "  <tbody>\n",
       "    <tr>\n",
       "      <th>0</th>\n",
       "      <td>0.238627</td>\n",
       "      <td>0.311349</td>\n",
       "      <td>1.888184</td>\n",
       "      <td>-0.652639</td>\n",
       "      <td>-1.550719</td>\n",
       "      <td>-0.577318</td>\n",
       "      <td>-0.276287</td>\n",
       "      <td>0</td>\n",
       "    </tr>\n",
       "    <tr>\n",
       "      <th>1</th>\n",
       "      <td>-0.771898</td>\n",
       "      <td>-0.103256</td>\n",
       "      <td>0.440125</td>\n",
       "      <td>1.531545</td>\n",
       "      <td>0.525643</td>\n",
       "      <td>1.460559</td>\n",
       "      <td>0.229696</td>\n",
       "      <td>1</td>\n",
       "    </tr>\n",
       "    <tr>\n",
       "      <th>2</th>\n",
       "      <td>1.189134</td>\n",
       "      <td>-0.251287</td>\n",
       "      <td>-1.154813</td>\n",
       "      <td>2.078940</td>\n",
       "      <td>-1.052676</td>\n",
       "      <td>2.195291</td>\n",
       "      <td>-1.131020</td>\n",
       "      <td>2</td>\n",
       "    </tr>\n",
       "    <tr>\n",
       "      <th>3</th>\n",
       "      <td>-1.558550</td>\n",
       "      <td>-1.409033</td>\n",
       "      <td>0.391150</td>\n",
       "      <td>2.166913</td>\n",
       "      <td>0.500107</td>\n",
       "      <td>2.135276</td>\n",
       "      <td>1.505758</td>\n",
       "      <td>3</td>\n",
       "    </tr>\n",
       "    <tr>\n",
       "      <th>4</th>\n",
       "      <td>0.539860</td>\n",
       "      <td>-0.969505</td>\n",
       "      <td>0.835381</td>\n",
       "      <td>-0.552763</td>\n",
       "      <td>1.049743</td>\n",
       "      <td>-0.526755</td>\n",
       "      <td>0.956610</td>\n",
       "      <td>4</td>\n",
       "    </tr>\n",
       "  </tbody>\n",
       "</table>\n",
       "</div>"
      ],
      "text/plain": [
       "   air_pressure  air_temp  avg_wind_direction  avg_wind_speed  \\\n",
       "0      0.238627  0.311349            1.888184       -0.652639   \n",
       "1     -0.771898 -0.103256            0.440125        1.531545   \n",
       "2      1.189134 -0.251287           -1.154813        2.078940   \n",
       "3     -1.558550 -1.409033            0.391150        2.166913   \n",
       "4      0.539860 -0.969505            0.835381       -0.552763   \n",
       "\n",
       "   max_wind_direction  max_wind_speed  relative_humidity  prediction  \n",
       "0           -1.550719       -0.577318          -0.276287           0  \n",
       "1            0.525643        1.460559           0.229696           1  \n",
       "2           -1.052676        2.195291          -1.131020           2  \n",
       "3            0.500107        2.135276           1.505758           3  \n",
       "4            1.049743       -0.526755           0.956610           4  "
      ]
     },
     "execution_count": 51,
     "metadata": {},
     "output_type": "execute_result"
    }
   ],
   "source": [
    "P = pd_centers(featuresUsed,centers)\n",
    "P.head()"
   ]
  },
  {
   "cell_type": "markdown",
   "metadata": {
    "papermill": {
     "duration": 0.250931,
     "end_time": "2020-09-11T16:42:33.277073",
     "exception": false,
     "start_time": "2020-09-11T16:42:33.026142",
     "status": "completed"
    },
    "tags": []
   },
   "source": [
    "`Let's show clusters for \"Dry Days\", i.e., weather samples with low relative humidity.`"
   ]
  },
  {
   "cell_type": "code",
   "execution_count": 52,
   "metadata": {
    "execution": {
     "iopub.execute_input": "2020-09-11T16:42:33.780249Z",
     "iopub.status.busy": "2020-09-11T16:42:33.779421Z",
     "iopub.status.idle": "2020-09-11T16:42:34.066280Z",
     "shell.execute_reply": "2020-09-11T16:42:34.065564Z"
    },
    "papermill": {
     "duration": 0.543575,
     "end_time": "2020-09-11T16:42:34.066428",
     "exception": false,
     "start_time": "2020-09-11T16:42:33.522853",
     "status": "completed"
    },
    "tags": []
   },
   "outputs": [
    {
     "data": {
      "image/png": "[encoded data removed]",
      "text/plain": [
       "<Figure size 1080x576 with 1 Axes>"
      ]
     },
     "metadata": {
      "needs_background": "light"
     },
     "output_type": "display_data"
    }
   ],
   "source": [
    "parallel_plot(P[P['relative_humidity']<-0.5],P)"
   ]
  },
  {
   "cell_type": "markdown",
   "metadata": {
    "papermill": {
     "duration": 0.248682,
     "end_time": "2020-09-11T16:42:34.569008",
     "exception": false,
     "start_time": "2020-09-11T16:42:34.320326",
     "status": "completed"
    },
    "tags": []
   },
   "source": [
    "The first argument to parallel_plot selects the clusters whose relative humidities are centered less than 0.5 from the mean value. All clusters in this plot have relative_humidity < -0.5, but they differ in values for other features, meaning that there are several weather patterns that include low humidity.\n",
    "\n",
    "Note in particular cluster 4. This cluster has samples with lower-than-average wind direction values. Recall that wind direction values are in degrees, and 0 means wind coming from the North and increasing clockwise. So samples in this cluster have wind coming from the N and NE directions, with very high wind speeds, and low relative humidity. These are characteristic weather patterns for Santa Ana conditions, which greatly increase the dangers of wildfires.\n",
    "\n",
    "`Let's show clusters for \"Warm Days\", i.e., weather samples with high air temperature:`"
   ]
  },
  {
   "cell_type": "code",
   "execution_count": 53,
   "metadata": {
    "execution": {
     "iopub.execute_input": "2020-09-11T16:42:35.083819Z",
     "iopub.status.busy": "2020-09-11T16:42:35.077560Z",
     "iopub.status.idle": "2020-09-11T16:42:35.304926Z",
     "shell.execute_reply": "2020-09-11T16:42:35.303923Z"
    },
    "papermill": {
     "duration": 0.485116,
     "end_time": "2020-09-11T16:42:35.305129",
     "exception": false,
     "start_time": "2020-09-11T16:42:34.820013",
     "status": "completed"
    },
    "tags": []
   },
   "outputs": [
    {
     "data": {
      "image/png": "[encoded data removed]",
      "text/plain": [
       "<Figure size 1080x576 with 1 Axes>"
      ]
     },
     "metadata": {
      "needs_background": "light"
     },
     "output_type": "display_data"
    }
   ],
   "source": [
    "parallel_plot(P[P['air_temp']>0.5],P)"
   ]
  },
  {
   "cell_type": "markdown",
   "metadata": {
    "papermill": {
     "duration": 0.252334,
     "end_time": "2020-09-11T16:42:35.809309",
     "exception": false,
     "start_time": "2020-09-11T16:42:35.556975",
     "status": "completed"
    },
    "tags": []
   },
   "source": [
    "All clusters in this plot have air_temp > 0.5, but they differ in values for other features.\n",
    "\n",
    "`Let's show clusters for \"Cool Days\", i.e., weather samples with high relative humidity and low air temperature.`"
   ]
  },
  {
   "cell_type": "code",
   "execution_count": 54,
   "metadata": {
    "execution": {
     "iopub.execute_input": "2020-09-11T16:42:36.348218Z",
     "iopub.status.busy": "2020-09-11T16:42:36.345635Z",
     "iopub.status.idle": "2020-09-11T16:42:36.579901Z",
     "shell.execute_reply": "2020-09-11T16:42:36.579240Z"
    },
    "papermill": {
     "duration": 0.519411,
     "end_time": "2020-09-11T16:42:36.580066",
     "exception": false,
     "start_time": "2020-09-11T16:42:36.060655",
     "status": "completed"
    },
    "tags": []
   },
   "outputs": [
    {
     "data": {
      "image/png": "[encoded data removed]",
      "text/plain": [
       "<Figure size 1080x576 with 1 Axes>"
      ]
     },
     "metadata": {
      "needs_background": "light"
     },
     "output_type": "display_data"
    }
   ],
   "source": [
    "parallel_plot(P[(P['relative_humidity']>0.5) & (P['air_temp']<0.5) ],P)"
   ]
  },
  {
   "cell_type": "markdown",
   "metadata": {
    "papermill": {
     "duration": 0.255143,
     "end_time": "2020-09-11T16:42:37.092998",
     "exception": false,
     "start_time": "2020-09-11T16:42:36.837855",
     "status": "completed"
    },
    "tags": []
   },
   "source": [
    "All clusters in this plot have relative_humidity > 0.5 and air_temp < 0.5. These clusters represent cool temperature with high humidity and possibly rainy weather patterns. For cluster 5, note that the wind speed values are high, suggesting stormy weather patterns with rain and wind.\n",
    "\n",
    "`So far, we've seen all the clusters except 2 since it did not fall into any of the other categories. Let's plot this cluster.`"
   ]
  },
  {
   "cell_type": "code",
   "execution_count": 55,
   "metadata": {
    "execution": {
     "iopub.execute_input": "2020-09-11T16:42:37.630364Z",
     "iopub.status.busy": "2020-09-11T16:42:37.620045Z",
     "iopub.status.idle": "2020-09-11T16:42:37.837782Z",
     "shell.execute_reply": "2020-09-11T16:42:37.837051Z"
    },
    "papermill": {
     "duration": 0.487493,
     "end_time": "2020-09-11T16:42:37.837937",
     "exception": false,
     "start_time": "2020-09-11T16:42:37.350444",
     "status": "completed"
    },
    "tags": []
   },
   "outputs": [
    {
     "data": {
      "image/png": "[encoded data removed]",
      "text/plain": [
       "<Figure size 1080x576 with 1 Axes>"
      ]
     },
     "metadata": {
      "needs_background": "light"
     },
     "output_type": "display_data"
    }
   ],
   "source": [
    "parallel_plot(P.iloc[[2]],P)"
   ]
  },
  {
   "cell_type": "markdown",
   "metadata": {
    "papermill": {
     "duration": 0.254501,
     "end_time": "2020-09-11T16:42:38.349700",
     "exception": false,
     "start_time": "2020-09-11T16:42:38.095199",
     "status": "completed"
    },
    "tags": []
   },
   "source": [
    "`Cluster 2 captures days with mild weather.`\n",
    "\n",
    "#### Thank you for reading my Notebook. I hope you learned something new and interesting today !! :)"
   ]
  }
 ],
 "metadata": {
  "kernelspec": {
   "display_name": "Python 3",
   "language": "python",
   "name": "python3"
  },
  "language_info": {
   "codemirror_mode": {
    "name": "ipython",
    "version": 3
   },
   "file_extension": ".py",
   "mimetype": "text/x-python",
   "name": "python",
   "nbconvert_exporter": "python",
   "pygments_lexer": "ipython3",
   "version": "3.7.6"
  },
  "papermill": {
   "duration": 357.703105,
   "end_time": "2020-09-11T16:42:39.660845",
   "environment_variables": {},
   "exception": null,
   "input_path": "__notebook__.ipynb",
   "output_path": "__notebook__.ipynb",
   "parameters": {},
   "start_time": "2020-09-11T16:36:41.957740",
   "version": "2.1.0"
  }
 },
 "nbformat": 4,
 "nbformat_minor": 4
}
